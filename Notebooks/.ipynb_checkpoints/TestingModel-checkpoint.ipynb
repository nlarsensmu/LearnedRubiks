{
 "cells": [
  {
   "cell_type": "code",
   "execution_count": 13,
   "id": "cb2a13bf",
   "metadata": {},
   "outputs": [],
   "source": [
    "import turicreate as tc\n",
    "import numpy as np"
   ]
  },
  {
   "cell_type": "code",
   "execution_count": 14,
   "id": "b3b59b9e",
   "metadata": {},
   "outputs": [
    {
     "data": {
      "text/plain": [
       "'6.4.1'"
      ]
     },
     "execution_count": 14,
     "metadata": {},
     "output_type": "execute_result"
    }
   ],
   "source": [
    "tc.__version__"
   ]
  },
  {
   "cell_type": "code",
   "execution_count": 15,
   "id": "c0108d76",
   "metadata": {},
   "outputs": [],
   "source": [
    "from pymongo import MongoClient"
   ]
  },
  {
   "cell_type": "code",
   "execution_count": 16,
   "id": "aeb9cfd0",
   "metadata": {},
   "outputs": [],
   "source": [
    "client = MongoClient(serverSelectionTimeoutMS=50)\n",
    "db = client.turidatabase"
   ]
  },
  {
   "cell_type": "code",
   "execution_count": 39,
   "id": "c17a1123",
   "metadata": {},
   "outputs": [
    {
     "data": {
      "text/plain": [
       "<pymongo.cursor.Cursor at 0x7f9b2bed18d0>"
      ]
     },
     "execution_count": 39,
     "metadata": {},
     "output_type": "execute_result"
    }
   ],
   "source": [
    "db.labeledinstances.find({'dsid': 5})"
   ]
  },
  {
   "cell_type": "code",
   "execution_count": 40,
   "id": "77d66e84",
   "metadata": {},
   "outputs": [
    {
     "data": {
      "text/plain": [
       "Database(MongoClient(host=['localhost:27017'], document_class=dict, tz_aware=False, connect=True, serverselectiontimeoutms=50), 'turidatabase')"
      ]
     },
     "execution_count": 40,
     "metadata": {},
     "output_type": "execute_result"
    }
   ],
   "source": [
    "db"
   ]
  },
  {
   "cell_type": "code",
   "execution_count": 41,
   "id": "25f119f5",
   "metadata": {},
   "outputs": [],
   "source": [
    "def get_dataset_data(dsid):\n",
    "    features = []\n",
    "    labels = []\n",
    "    \n",
    "    for a in db.labeledinstances.find({\"dsid\": dsid}):\n",
    "        features.append([float(val) for val in a['feature']])\n",
    "        labels.append(a['label'])\n",
    "    data = {'target': labels, 'sequence':np.array(features)}\n",
    "    \n",
    "    return data\n",
    "\n",
    "\n",
    "def get_dataset_sframe(dsid):\n",
    "    data = get_dataset_data(dsid)\n",
    "    return tc.SFrame(data=data)\n"
   ]
  },
  {
   "cell_type": "code",
   "execution_count": 42,
   "id": "f7d7e391",
   "metadata": {},
   "outputs": [],
   "source": [
    "dsid_4_sframe = get_dataset_sframe(4)"
   ]
  },
  {
   "cell_type": "markdown",
   "id": "ad00a47f",
   "metadata": {},
   "source": [
    "## Create a defualt model"
   ]
  },
  {
   "cell_type": "code",
   "execution_count": 43,
   "id": "5b486b8e",
   "metadata": {},
   "outputs": [
    {
     "name": "stdout",
     "output_type": "stream",
     "text": [
      "PROGRESS: Creating a validation set from 5 percent of training data. This may take a while.\n",
      "          You can set ``validation_set=None`` to disable validation tracking.\n",
      "\n",
      "PROGRESS: The following methods are available for this type of problem.\n",
      "PROGRESS: BoostedTreesClassifier, RandomForestClassifier, DecisionTreeClassifier, LogisticClassifier\n",
      "PROGRESS: The returned model will be chosen according to validation accuracy.\n"
     ]
    },
    {
     "data": {
      "text/html": [
       "<pre>Boosted trees classifier:</pre>"
      ],
      "text/plain": [
       "Boosted trees classifier:"
      ]
     },
     "metadata": {},
     "output_type": "display_data"
    },
    {
     "data": {
      "text/html": [
       "<pre>--------------------------------------------------------</pre>"
      ],
      "text/plain": [
       "--------------------------------------------------------"
      ]
     },
     "metadata": {},
     "output_type": "display_data"
    },
    {
     "data": {
      "text/html": [
       "<pre>Number of examples          : 1772</pre>"
      ],
      "text/plain": [
       "Number of examples          : 1772"
      ]
     },
     "metadata": {},
     "output_type": "display_data"
    },
    {
     "data": {
      "text/html": [
       "<pre>Number of classes           : 12</pre>"
      ],
      "text/plain": [
       "Number of classes           : 12"
      ]
     },
     "metadata": {},
     "output_type": "display_data"
    },
    {
     "data": {
      "text/html": [
       "<pre>Number of feature columns   : 1</pre>"
      ],
      "text/plain": [
       "Number of feature columns   : 1"
      ]
     },
     "metadata": {},
     "output_type": "display_data"
    },
    {
     "data": {
      "text/html": [
       "<pre>Number of unpacked features : 300</pre>"
      ],
      "text/plain": [
       "Number of unpacked features : 300"
      ]
     },
     "metadata": {},
     "output_type": "display_data"
    },
    {
     "data": {
      "text/html": [
       "<pre>+-----------+--------------+-------------------+---------------------+-------------------+---------------------+</pre>"
      ],
      "text/plain": [
       "+-----------+--------------+-------------------+---------------------+-------------------+---------------------+"
      ]
     },
     "metadata": {},
     "output_type": "display_data"
    },
    {
     "data": {
      "text/html": [
       "<pre>| Iteration | Elapsed Time | Training Accuracy | Validation Accuracy | Training Log Loss | Validation Log Loss |</pre>"
      ],
      "text/plain": [
       "| Iteration | Elapsed Time | Training Accuracy | Validation Accuracy | Training Log Loss | Validation Log Loss |"
      ]
     },
     "metadata": {},
     "output_type": "display_data"
    },
    {
     "data": {
      "text/html": [
       "<pre>+-----------+--------------+-------------------+---------------------+-------------------+---------------------+</pre>"
      ],
      "text/plain": [
       "+-----------+--------------+-------------------+---------------------+-------------------+---------------------+"
      ]
     },
     "metadata": {},
     "output_type": "display_data"
    },
    {
     "data": {
      "text/html": [
       "<pre>| 1         | 0.130642     | 0.947517          | 0.744681            | 1.308149          | 1.597487            |</pre>"
      ],
      "text/plain": [
       "| 1         | 0.130642     | 0.947517          | 0.744681            | 1.308149          | 1.597487            |"
      ]
     },
     "metadata": {},
     "output_type": "display_data"
    },
    {
     "data": {
      "text/html": [
       "<pre>| 2         | 0.256080     | 0.980813          | 0.819149            | 0.929807          | 1.299692            |</pre>"
      ],
      "text/plain": [
       "| 2         | 0.256080     | 0.980813          | 0.819149            | 0.929807          | 1.299692            |"
      ]
     },
     "metadata": {},
     "output_type": "display_data"
    },
    {
     "data": {
      "text/html": [
       "<pre>| 3         | 0.383080     | 0.986456          | 0.829787            | 0.691967          | 1.107195            |</pre>"
      ],
      "text/plain": [
       "| 3         | 0.383080     | 0.986456          | 0.829787            | 0.691967          | 1.107195            |"
      ]
     },
     "metadata": {},
     "output_type": "display_data"
    },
    {
     "data": {
      "text/html": [
       "<pre>| 4         | 0.503098     | 0.989842          | 0.840426            | 0.525506          | 0.974367            |</pre>"
      ],
      "text/plain": [
       "| 4         | 0.503098     | 0.989842          | 0.840426            | 0.525506          | 0.974367            |"
      ]
     },
     "metadata": {},
     "output_type": "display_data"
    },
    {
     "data": {
      "text/html": [
       "<pre>| 5         | 0.625415     | 0.993792          | 0.829787            | 0.404465          | 0.872498            |</pre>"
      ],
      "text/plain": [
       "| 5         | 0.625415     | 0.993792          | 0.829787            | 0.404465          | 0.872498            |"
      ]
     },
     "metadata": {},
     "output_type": "display_data"
    },
    {
     "data": {
      "text/html": [
       "<pre>| 10        | 1.201743     | 0.998307          | 0.851064            | 0.123623          | 0.609385            |</pre>"
      ],
      "text/plain": [
       "| 10        | 1.201743     | 0.998307          | 0.851064            | 0.123623          | 0.609385            |"
      ]
     },
     "metadata": {},
     "output_type": "display_data"
    },
    {
     "data": {
      "text/html": [
       "<pre>+-----------+--------------+-------------------+---------------------+-------------------+---------------------+</pre>"
      ],
      "text/plain": [
       "+-----------+--------------+-------------------+---------------------+-------------------+---------------------+"
      ]
     },
     "metadata": {},
     "output_type": "display_data"
    },
    {
     "data": {
      "text/html": [
       "<pre>Random forest classifier:</pre>"
      ],
      "text/plain": [
       "Random forest classifier:"
      ]
     },
     "metadata": {},
     "output_type": "display_data"
    },
    {
     "data": {
      "text/html": [
       "<pre>--------------------------------------------------------</pre>"
      ],
      "text/plain": [
       "--------------------------------------------------------"
      ]
     },
     "metadata": {},
     "output_type": "display_data"
    },
    {
     "data": {
      "text/html": [
       "<pre>Number of examples          : 1772</pre>"
      ],
      "text/plain": [
       "Number of examples          : 1772"
      ]
     },
     "metadata": {},
     "output_type": "display_data"
    },
    {
     "data": {
      "text/html": [
       "<pre>Number of classes           : 12</pre>"
      ],
      "text/plain": [
       "Number of classes           : 12"
      ]
     },
     "metadata": {},
     "output_type": "display_data"
    },
    {
     "data": {
      "text/html": [
       "<pre>Number of feature columns   : 1</pre>"
      ],
      "text/plain": [
       "Number of feature columns   : 1"
      ]
     },
     "metadata": {},
     "output_type": "display_data"
    },
    {
     "data": {
      "text/html": [
       "<pre>Number of unpacked features : 300</pre>"
      ],
      "text/plain": [
       "Number of unpacked features : 300"
      ]
     },
     "metadata": {},
     "output_type": "display_data"
    },
    {
     "data": {
      "text/html": [
       "<pre>+-----------+--------------+-------------------+---------------------+-------------------+---------------------+</pre>"
      ],
      "text/plain": [
       "+-----------+--------------+-------------------+---------------------+-------------------+---------------------+"
      ]
     },
     "metadata": {},
     "output_type": "display_data"
    },
    {
     "data": {
      "text/html": [
       "<pre>| Iteration | Elapsed Time | Training Accuracy | Validation Accuracy | Training Log Loss | Validation Log Loss |</pre>"
      ],
      "text/plain": [
       "| Iteration | Elapsed Time | Training Accuracy | Validation Accuracy | Training Log Loss | Validation Log Loss |"
      ]
     },
     "metadata": {},
     "output_type": "display_data"
    },
    {
     "data": {
      "text/html": [
       "<pre>+-----------+--------------+-------------------+---------------------+-------------------+---------------------+</pre>"
      ],
      "text/plain": [
       "+-----------+--------------+-------------------+---------------------+-------------------+---------------------+"
      ]
     },
     "metadata": {},
     "output_type": "display_data"
    },
    {
     "data": {
      "text/html": [
       "<pre>| 1         | 0.114204     | 0.872460          | 0.680851            | 0.528449          | 1.325392            |</pre>"
      ],
      "text/plain": [
       "| 1         | 0.114204     | 0.872460          | 0.680851            | 0.528449          | 1.325392            |"
      ]
     },
     "metadata": {},
     "output_type": "display_data"
    },
    {
     "data": {
      "text/html": [
       "<pre>| 2         | 0.212798     | 0.939616          | 0.765957            | 0.396265          | 1.027263            |</pre>"
      ],
      "text/plain": [
       "| 2         | 0.212798     | 0.939616          | 0.765957            | 0.396265          | 1.027263            |"
      ]
     },
     "metadata": {},
     "output_type": "display_data"
    },
    {
     "data": {
      "text/html": [
       "<pre>| 3         | 0.310208     | 0.955982          | 0.797872            | 0.351889          | 0.850832            |</pre>"
      ],
      "text/plain": [
       "| 3         | 0.310208     | 0.955982          | 0.797872            | 0.351889          | 0.850832            |"
      ]
     },
     "metadata": {},
     "output_type": "display_data"
    },
    {
     "data": {
      "text/html": [
       "<pre>| 4         | 0.408813     | 0.965576          | 0.797872            | 0.333442          | 0.809497            |</pre>"
      ],
      "text/plain": [
       "| 4         | 0.408813     | 0.965576          | 0.797872            | 0.333442          | 0.809497            |"
      ]
     },
     "metadata": {},
     "output_type": "display_data"
    },
    {
     "data": {
      "text/html": [
       "<pre>| 5         | 0.507250     | 0.971219          | 0.819149            | 0.321331          | 0.777913            |</pre>"
      ],
      "text/plain": [
       "| 5         | 0.507250     | 0.971219          | 0.819149            | 0.321331          | 0.777913            |"
      ]
     },
     "metadata": {},
     "output_type": "display_data"
    },
    {
     "data": {
      "text/html": [
       "<pre>| 10        | 0.990258     | 0.974605          | 0.829787            | 0.308615          | 0.779720            |</pre>"
      ],
      "text/plain": [
       "| 10        | 0.990258     | 0.974605          | 0.829787            | 0.308615          | 0.779720            |"
      ]
     },
     "metadata": {},
     "output_type": "display_data"
    },
    {
     "data": {
      "text/html": [
       "<pre>+-----------+--------------+-------------------+---------------------+-------------------+---------------------+</pre>"
      ],
      "text/plain": [
       "+-----------+--------------+-------------------+---------------------+-------------------+---------------------+"
      ]
     },
     "metadata": {},
     "output_type": "display_data"
    },
    {
     "data": {
      "text/html": [
       "<pre>Decision tree classifier:</pre>"
      ],
      "text/plain": [
       "Decision tree classifier:"
      ]
     },
     "metadata": {},
     "output_type": "display_data"
    },
    {
     "data": {
      "text/html": [
       "<pre>--------------------------------------------------------</pre>"
      ],
      "text/plain": [
       "--------------------------------------------------------"
      ]
     },
     "metadata": {},
     "output_type": "display_data"
    },
    {
     "data": {
      "text/html": [
       "<pre>Number of examples          : 1772</pre>"
      ],
      "text/plain": [
       "Number of examples          : 1772"
      ]
     },
     "metadata": {},
     "output_type": "display_data"
    },
    {
     "data": {
      "text/html": [
       "<pre>Number of classes           : 12</pre>"
      ],
      "text/plain": [
       "Number of classes           : 12"
      ]
     },
     "metadata": {},
     "output_type": "display_data"
    },
    {
     "data": {
      "text/html": [
       "<pre>Number of feature columns   : 1</pre>"
      ],
      "text/plain": [
       "Number of feature columns   : 1"
      ]
     },
     "metadata": {},
     "output_type": "display_data"
    },
    {
     "data": {
      "text/html": [
       "<pre>Number of unpacked features : 300</pre>"
      ],
      "text/plain": [
       "Number of unpacked features : 300"
      ]
     },
     "metadata": {},
     "output_type": "display_data"
    },
    {
     "data": {
      "text/html": [
       "<pre>+-----------+--------------+-------------------+---------------------+-------------------+---------------------+</pre>"
      ],
      "text/plain": [
       "+-----------+--------------+-------------------+---------------------+-------------------+---------------------+"
      ]
     },
     "metadata": {},
     "output_type": "display_data"
    },
    {
     "data": {
      "text/html": [
       "<pre>| Iteration | Elapsed Time | Training Accuracy | Validation Accuracy | Training Log Loss | Validation Log Loss |</pre>"
      ],
      "text/plain": [
       "| Iteration | Elapsed Time | Training Accuracy | Validation Accuracy | Training Log Loss | Validation Log Loss |"
      ]
     },
     "metadata": {},
     "output_type": "display_data"
    },
    {
     "data": {
      "text/html": [
       "<pre>+-----------+--------------+-------------------+---------------------+-------------------+---------------------+</pre>"
      ],
      "text/plain": [
       "+-----------+--------------+-------------------+---------------------+-------------------+---------------------+"
      ]
     },
     "metadata": {},
     "output_type": "display_data"
    },
    {
     "data": {
      "text/html": [
       "<pre>| 1         | 0.131885     | 0.947517          | 0.744681            | 0.314115          | 1.021187            |</pre>"
      ],
      "text/plain": [
       "| 1         | 0.131885     | 0.947517          | 0.744681            | 0.314115          | 1.021187            |"
      ]
     },
     "metadata": {},
     "output_type": "display_data"
    },
    {
     "data": {
      "text/html": [
       "<pre>+-----------+--------------+-------------------+---------------------+-------------------+---------------------+</pre>"
      ],
      "text/plain": [
       "+-----------+--------------+-------------------+---------------------+-------------------+---------------------+"
      ]
     },
     "metadata": {},
     "output_type": "display_data"
    },
    {
     "data": {
      "text/html": [
       "<pre>Logistic regression:</pre>"
      ],
      "text/plain": [
       "Logistic regression:"
      ]
     },
     "metadata": {},
     "output_type": "display_data"
    },
    {
     "data": {
      "text/html": [
       "<pre>--------------------------------------------------------</pre>"
      ],
      "text/plain": [
       "--------------------------------------------------------"
      ]
     },
     "metadata": {},
     "output_type": "display_data"
    },
    {
     "data": {
      "text/html": [
       "<pre>Number of examples          : 1772</pre>"
      ],
      "text/plain": [
       "Number of examples          : 1772"
      ]
     },
     "metadata": {},
     "output_type": "display_data"
    },
    {
     "data": {
      "text/html": [
       "<pre>Number of classes           : 12</pre>"
      ],
      "text/plain": [
       "Number of classes           : 12"
      ]
     },
     "metadata": {},
     "output_type": "display_data"
    },
    {
     "data": {
      "text/html": [
       "<pre>Number of feature columns   : 1</pre>"
      ],
      "text/plain": [
       "Number of feature columns   : 1"
      ]
     },
     "metadata": {},
     "output_type": "display_data"
    },
    {
     "data": {
      "text/html": [
       "<pre>Number of unpacked features : 300</pre>"
      ],
      "text/plain": [
       "Number of unpacked features : 300"
      ]
     },
     "metadata": {},
     "output_type": "display_data"
    },
    {
     "data": {
      "text/html": [
       "<pre>Number of coefficients      : 3311</pre>"
      ],
      "text/plain": [
       "Number of coefficients      : 3311"
      ]
     },
     "metadata": {},
     "output_type": "display_data"
    },
    {
     "data": {
      "text/html": [
       "<pre>Starting L-BFGS</pre>"
      ],
      "text/plain": [
       "Starting L-BFGS"
      ]
     },
     "metadata": {},
     "output_type": "display_data"
    },
    {
     "data": {
      "text/html": [
       "<pre>--------------------------------------------------------</pre>"
      ],
      "text/plain": [
       "--------------------------------------------------------"
      ]
     },
     "metadata": {},
     "output_type": "display_data"
    },
    {
     "data": {
      "text/html": [
       "<pre>+-----------+----------+-----------+--------------+-------------------+---------------------+</pre>"
      ],
      "text/plain": [
       "+-----------+----------+-----------+--------------+-------------------+---------------------+"
      ]
     },
     "metadata": {},
     "output_type": "display_data"
    },
    {
     "data": {
      "text/html": [
       "<pre>| Iteration | Passes   | Step size | Elapsed Time | Training Accuracy | Validation Accuracy |</pre>"
      ],
      "text/plain": [
       "| Iteration | Passes   | Step size | Elapsed Time | Training Accuracy | Validation Accuracy |"
      ]
     },
     "metadata": {},
     "output_type": "display_data"
    },
    {
     "data": {
      "text/html": [
       "<pre>+-----------+----------+-----------+--------------+-------------------+---------------------+</pre>"
      ],
      "text/plain": [
       "+-----------+----------+-----------+--------------+-------------------+---------------------+"
      ]
     },
     "metadata": {},
     "output_type": "display_data"
    },
    {
     "data": {
      "text/html": [
       "<pre>| 0         | 2        | 1.000000  | 0.018784     | 0.561512          | 0.563830            |</pre>"
      ],
      "text/plain": [
       "| 0         | 2        | 1.000000  | 0.018784     | 0.561512          | 0.563830            |"
      ]
     },
     "metadata": {},
     "output_type": "display_data"
    },
    {
     "data": {
      "text/html": [
       "<pre>| 1         | 4        | 1.000000  | 0.066190     | 0.655756          | 0.606383            |</pre>"
      ],
      "text/plain": [
       "| 1         | 4        | 1.000000  | 0.066190     | 0.655756          | 0.606383            |"
      ]
     },
     "metadata": {},
     "output_type": "display_data"
    },
    {
     "data": {
      "text/html": [
       "<pre>| 2         | 5        | 1.000000  | 0.094824     | 0.727427          | 0.670213            |</pre>"
      ],
      "text/plain": [
       "| 2         | 5        | 1.000000  | 0.094824     | 0.727427          | 0.670213            |"
      ]
     },
     "metadata": {},
     "output_type": "display_data"
    },
    {
     "data": {
      "text/html": [
       "<pre>| 3         | 6        | 1.000000  | 0.122695     | 0.768623          | 0.691489            |</pre>"
      ],
      "text/plain": [
       "| 3         | 6        | 1.000000  | 0.122695     | 0.768623          | 0.691489            |"
      ]
     },
     "metadata": {},
     "output_type": "display_data"
    },
    {
     "data": {
      "text/html": [
       "<pre>| 4         | 7        | 1.000000  | 0.148082     | 0.794582          | 0.734043            |</pre>"
      ],
      "text/plain": [
       "| 4         | 7        | 1.000000  | 0.148082     | 0.794582          | 0.734043            |"
      ]
     },
     "metadata": {},
     "output_type": "display_data"
    },
    {
     "data": {
      "text/html": [
       "<pre>| 9         | 13       | 1.000000  | 0.291560     | 0.863431          | 0.808511            |</pre>"
      ],
      "text/plain": [
       "| 9         | 13       | 1.000000  | 0.291560     | 0.863431          | 0.808511            |"
      ]
     },
     "metadata": {},
     "output_type": "display_data"
    },
    {
     "data": {
      "text/html": [
       "<pre>+-----------+----------+-----------+--------------+-------------------+---------------------+</pre>"
      ],
      "text/plain": [
       "+-----------+----------+-----------+--------------+-------------------+---------------------+"
      ]
     },
     "metadata": {},
     "output_type": "display_data"
    },
    {
     "name": "stdout",
     "output_type": "stream",
     "text": [
      "PROGRESS: Model selection based on validation accuracy:\n",
      "PROGRESS: ---------------------------------------------\n",
      "PROGRESS: BoostedTreesClassifier          : 0.851063829787234\n",
      "PROGRESS: RandomForestClassifier          : 0.8297872340425532\n",
      "PROGRESS: DecisionTreeClassifier          : 0.7446808510638298\n",
      "PROGRESS: LogisticClassifier              : 0.8085106382978723\n",
      "PROGRESS: ---------------------------------------------\n",
      "PROGRESS: Selecting BoostedTreesClassifier based on validation set performance.\n"
     ]
    }
   ],
   "source": [
    "moel = tc.classifier.create(dsid_4_sframe, target='target')"
   ]
  },
  {
   "cell_type": "code",
   "execution_count": 44,
   "id": "62919cb7",
   "metadata": {},
   "outputs": [
    {
     "name": "stdout",
     "output_type": "stream",
     "text": [
      "PROGRESS: Creating a validation set from 5 percent of training data. This may take a while.\n",
      "          You can set ``validation_set=None`` to disable validation tracking.\n",
      "\n",
      "PROGRESS: The following methods are available for this type of problem.\n",
      "PROGRESS: BoostedTreesClassifier, RandomForestClassifier, DecisionTreeClassifier, LogisticClassifier\n",
      "PROGRESS: The returned model will be chosen according to validation accuracy.\n"
     ]
    },
    {
     "data": {
      "text/html": [
       "<pre>Boosted trees classifier:</pre>"
      ],
      "text/plain": [
       "Boosted trees classifier:"
      ]
     },
     "metadata": {},
     "output_type": "display_data"
    },
    {
     "data": {
      "text/html": [
       "<pre>--------------------------------------------------------</pre>"
      ],
      "text/plain": [
       "--------------------------------------------------------"
      ]
     },
     "metadata": {},
     "output_type": "display_data"
    },
    {
     "data": {
      "text/html": [
       "<pre>Number of examples          : 1772</pre>"
      ],
      "text/plain": [
       "Number of examples          : 1772"
      ]
     },
     "metadata": {},
     "output_type": "display_data"
    },
    {
     "data": {
      "text/html": [
       "<pre>Number of classes           : 12</pre>"
      ],
      "text/plain": [
       "Number of classes           : 12"
      ]
     },
     "metadata": {},
     "output_type": "display_data"
    },
    {
     "data": {
      "text/html": [
       "<pre>Number of feature columns   : 1</pre>"
      ],
      "text/plain": [
       "Number of feature columns   : 1"
      ]
     },
     "metadata": {},
     "output_type": "display_data"
    },
    {
     "data": {
      "text/html": [
       "<pre>Number of unpacked features : 150</pre>"
      ],
      "text/plain": [
       "Number of unpacked features : 150"
      ]
     },
     "metadata": {},
     "output_type": "display_data"
    },
    {
     "data": {
      "text/html": [
       "<pre>+-----------+--------------+-------------------+---------------------+-------------------+---------------------+</pre>"
      ],
      "text/plain": [
       "+-----------+--------------+-------------------+---------------------+-------------------+---------------------+"
      ]
     },
     "metadata": {},
     "output_type": "display_data"
    },
    {
     "data": {
      "text/html": [
       "<pre>| Iteration | Elapsed Time | Training Accuracy | Validation Accuracy | Training Log Loss | Validation Log Loss |</pre>"
      ],
      "text/plain": [
       "| Iteration | Elapsed Time | Training Accuracy | Validation Accuracy | Training Log Loss | Validation Log Loss |"
      ]
     },
     "metadata": {},
     "output_type": "display_data"
    },
    {
     "data": {
      "text/html": [
       "<pre>+-----------+--------------+-------------------+---------------------+-------------------+---------------------+</pre>"
      ],
      "text/plain": [
       "+-----------+--------------+-------------------+---------------------+-------------------+---------------------+"
      ]
     },
     "metadata": {},
     "output_type": "display_data"
    },
    {
     "data": {
      "text/html": [
       "<pre>| 1         | 0.096584     | 0.922122          | 0.712766            | 1.389901          | 1.650522            |</pre>"
      ],
      "text/plain": [
       "| 1         | 0.096584     | 0.922122          | 0.712766            | 1.389901          | 1.650522            |"
      ]
     },
     "metadata": {},
     "output_type": "display_data"
    },
    {
     "data": {
      "text/html": [
       "<pre>| 2         | 0.179541     | 0.967833          | 0.755319            | 1.008327          | 1.399930            |</pre>"
      ],
      "text/plain": [
       "| 2         | 0.179541     | 0.967833          | 0.755319            | 1.008327          | 1.399930            |"
      ]
     },
     "metadata": {},
     "output_type": "display_data"
    },
    {
     "data": {
      "text/html": [
       "<pre>| 3         | 0.246643     | 0.977427          | 0.765957            | 0.765355          | 1.243718            |</pre>"
      ],
      "text/plain": [
       "| 3         | 0.246643     | 0.977427          | 0.765957            | 0.765355          | 1.243718            |"
      ]
     },
     "metadata": {},
     "output_type": "display_data"
    },
    {
     "data": {
      "text/html": [
       "<pre>| 4         | 0.315337     | 0.982506          | 0.787234            | 0.587253          | 1.107807            |</pre>"
      ],
      "text/plain": [
       "| 4         | 0.315337     | 0.982506          | 0.787234            | 0.587253          | 1.107807            |"
      ]
     },
     "metadata": {},
     "output_type": "display_data"
    },
    {
     "data": {
      "text/html": [
       "<pre>| 5         | 0.390269     | 0.987020          | 0.797872            | 0.456600          | 1.025380            |</pre>"
      ],
      "text/plain": [
       "| 5         | 0.390269     | 0.987020          | 0.797872            | 0.456600          | 1.025380            |"
      ]
     },
     "metadata": {},
     "output_type": "display_data"
    },
    {
     "data": {
      "text/html": [
       "<pre>| 10        | 0.736289     | 0.997178          | 0.819149            | 0.146895          | 0.779016            |</pre>"
      ],
      "text/plain": [
       "| 10        | 0.736289     | 0.997178          | 0.819149            | 0.146895          | 0.779016            |"
      ]
     },
     "metadata": {},
     "output_type": "display_data"
    },
    {
     "data": {
      "text/html": [
       "<pre>+-----------+--------------+-------------------+---------------------+-------------------+---------------------+</pre>"
      ],
      "text/plain": [
       "+-----------+--------------+-------------------+---------------------+-------------------+---------------------+"
      ]
     },
     "metadata": {},
     "output_type": "display_data"
    },
    {
     "data": {
      "text/html": [
       "<pre>Random forest classifier:</pre>"
      ],
      "text/plain": [
       "Random forest classifier:"
      ]
     },
     "metadata": {},
     "output_type": "display_data"
    },
    {
     "data": {
      "text/html": [
       "<pre>--------------------------------------------------------</pre>"
      ],
      "text/plain": [
       "--------------------------------------------------------"
      ]
     },
     "metadata": {},
     "output_type": "display_data"
    },
    {
     "data": {
      "text/html": [
       "<pre>Number of examples          : 1772</pre>"
      ],
      "text/plain": [
       "Number of examples          : 1772"
      ]
     },
     "metadata": {},
     "output_type": "display_data"
    },
    {
     "data": {
      "text/html": [
       "<pre>Number of classes           : 12</pre>"
      ],
      "text/plain": [
       "Number of classes           : 12"
      ]
     },
     "metadata": {},
     "output_type": "display_data"
    },
    {
     "data": {
      "text/html": [
       "<pre>Number of feature columns   : 1</pre>"
      ],
      "text/plain": [
       "Number of feature columns   : 1"
      ]
     },
     "metadata": {},
     "output_type": "display_data"
    },
    {
     "data": {
      "text/html": [
       "<pre>Number of unpacked features : 150</pre>"
      ],
      "text/plain": [
       "Number of unpacked features : 150"
      ]
     },
     "metadata": {},
     "output_type": "display_data"
    },
    {
     "data": {
      "text/html": [
       "<pre>+-----------+--------------+-------------------+---------------------+-------------------+---------------------+</pre>"
      ],
      "text/plain": [
       "+-----------+--------------+-------------------+---------------------+-------------------+---------------------+"
      ]
     },
     "metadata": {},
     "output_type": "display_data"
    },
    {
     "data": {
      "text/html": [
       "<pre>| Iteration | Elapsed Time | Training Accuracy | Validation Accuracy | Training Log Loss | Validation Log Loss |</pre>"
      ],
      "text/plain": [
       "| Iteration | Elapsed Time | Training Accuracy | Validation Accuracy | Training Log Loss | Validation Log Loss |"
      ]
     },
     "metadata": {},
     "output_type": "display_data"
    },
    {
     "data": {
      "text/html": [
       "<pre>+-----------+--------------+-------------------+---------------------+-------------------+---------------------+</pre>"
      ],
      "text/plain": [
       "+-----------+--------------+-------------------+---------------------+-------------------+---------------------+"
      ]
     },
     "metadata": {},
     "output_type": "display_data"
    },
    {
     "data": {
      "text/html": [
       "<pre>| 1         | 0.068487     | 0.864560          | 0.617021            | 0.580946          | 1.275777            |</pre>"
      ],
      "text/plain": [
       "| 1         | 0.068487     | 0.864560          | 0.617021            | 0.580946          | 1.275777            |"
      ]
     },
     "metadata": {},
     "output_type": "display_data"
    },
    {
     "data": {
      "text/html": [
       "<pre>| 2         | 0.129928     | 0.932280          | 0.744681            | 0.448011          | 1.020641            |</pre>"
      ],
      "text/plain": [
       "| 2         | 0.129928     | 0.932280          | 0.744681            | 0.448011          | 1.020641            |"
      ]
     },
     "metadata": {},
     "output_type": "display_data"
    },
    {
     "data": {
      "text/html": [
       "<pre>| 3         | 0.190386     | 0.942438          | 0.765957            | 0.411778          | 0.935169            |</pre>"
      ],
      "text/plain": [
       "| 3         | 0.190386     | 0.942438          | 0.765957            | 0.411778          | 0.935169            |"
      ]
     },
     "metadata": {},
     "output_type": "display_data"
    },
    {
     "data": {
      "text/html": [
       "<pre>| 4         | 0.251399     | 0.958804          | 0.797872            | 0.386821          | 0.883387            |</pre>"
      ],
      "text/plain": [
       "| 4         | 0.251399     | 0.958804          | 0.797872            | 0.386821          | 0.883387            |"
      ]
     },
     "metadata": {},
     "output_type": "display_data"
    },
    {
     "data": {
      "text/html": [
       "<pre>| 5         | 0.311298     | 0.965576          | 0.819149            | 0.368381          | 0.829312            |</pre>"
      ],
      "text/plain": [
       "| 5         | 0.311298     | 0.965576          | 0.819149            | 0.368381          | 0.829312            |"
      ]
     },
     "metadata": {},
     "output_type": "display_data"
    },
    {
     "data": {
      "text/html": [
       "<pre>| 10        | 0.599261     | 0.977427          | 0.797872            | 0.351209          | 0.809291            |</pre>"
      ],
      "text/plain": [
       "| 10        | 0.599261     | 0.977427          | 0.797872            | 0.351209          | 0.809291            |"
      ]
     },
     "metadata": {},
     "output_type": "display_data"
    },
    {
     "data": {
      "text/html": [
       "<pre>+-----------+--------------+-------------------+---------------------+-------------------+---------------------+</pre>"
      ],
      "text/plain": [
       "+-----------+--------------+-------------------+---------------------+-------------------+---------------------+"
      ]
     },
     "metadata": {},
     "output_type": "display_data"
    },
    {
     "data": {
      "text/html": [
       "<pre>Decision tree classifier:</pre>"
      ],
      "text/plain": [
       "Decision tree classifier:"
      ]
     },
     "metadata": {},
     "output_type": "display_data"
    },
    {
     "data": {
      "text/html": [
       "<pre>--------------------------------------------------------</pre>"
      ],
      "text/plain": [
       "--------------------------------------------------------"
      ]
     },
     "metadata": {},
     "output_type": "display_data"
    },
    {
     "data": {
      "text/html": [
       "<pre>Number of examples          : 1772</pre>"
      ],
      "text/plain": [
       "Number of examples          : 1772"
      ]
     },
     "metadata": {},
     "output_type": "display_data"
    },
    {
     "data": {
      "text/html": [
       "<pre>Number of classes           : 12</pre>"
      ],
      "text/plain": [
       "Number of classes           : 12"
      ]
     },
     "metadata": {},
     "output_type": "display_data"
    },
    {
     "data": {
      "text/html": [
       "<pre>Number of feature columns   : 1</pre>"
      ],
      "text/plain": [
       "Number of feature columns   : 1"
      ]
     },
     "metadata": {},
     "output_type": "display_data"
    },
    {
     "data": {
      "text/html": [
       "<pre>Number of unpacked features : 150</pre>"
      ],
      "text/plain": [
       "Number of unpacked features : 150"
      ]
     },
     "metadata": {},
     "output_type": "display_data"
    },
    {
     "data": {
      "text/html": [
       "<pre>+-----------+--------------+-------------------+---------------------+-------------------+---------------------+</pre>"
      ],
      "text/plain": [
       "+-----------+--------------+-------------------+---------------------+-------------------+---------------------+"
      ]
     },
     "metadata": {},
     "output_type": "display_data"
    },
    {
     "data": {
      "text/html": [
       "<pre>| Iteration | Elapsed Time | Training Accuracy | Validation Accuracy | Training Log Loss | Validation Log Loss |</pre>"
      ],
      "text/plain": [
       "| Iteration | Elapsed Time | Training Accuracy | Validation Accuracy | Training Log Loss | Validation Log Loss |"
      ]
     },
     "metadata": {},
     "output_type": "display_data"
    },
    {
     "data": {
      "text/html": [
       "<pre>+-----------+--------------+-------------------+---------------------+-------------------+---------------------+</pre>"
      ],
      "text/plain": [
       "+-----------+--------------+-------------------+---------------------+-------------------+---------------------+"
      ]
     },
     "metadata": {},
     "output_type": "display_data"
    },
    {
     "data": {
      "text/html": [
       "<pre>| 1         | 0.076975     | 0.922122          | 0.712766            | 0.412812          | 1.126188            |</pre>"
      ],
      "text/plain": [
       "| 1         | 0.076975     | 0.922122          | 0.712766            | 0.412812          | 1.126188            |"
      ]
     },
     "metadata": {},
     "output_type": "display_data"
    },
    {
     "data": {
      "text/html": [
       "<pre>+-----------+--------------+-------------------+---------------------+-------------------+---------------------+</pre>"
      ],
      "text/plain": [
       "+-----------+--------------+-------------------+---------------------+-------------------+---------------------+"
      ]
     },
     "metadata": {},
     "output_type": "display_data"
    },
    {
     "data": {
      "text/html": [
       "<pre>Logistic regression:</pre>"
      ],
      "text/plain": [
       "Logistic regression:"
      ]
     },
     "metadata": {},
     "output_type": "display_data"
    },
    {
     "data": {
      "text/html": [
       "<pre>--------------------------------------------------------</pre>"
      ],
      "text/plain": [
       "--------------------------------------------------------"
      ]
     },
     "metadata": {},
     "output_type": "display_data"
    },
    {
     "data": {
      "text/html": [
       "<pre>Number of examples          : 1772</pre>"
      ],
      "text/plain": [
       "Number of examples          : 1772"
      ]
     },
     "metadata": {},
     "output_type": "display_data"
    },
    {
     "data": {
      "text/html": [
       "<pre>Number of classes           : 12</pre>"
      ],
      "text/plain": [
       "Number of classes           : 12"
      ]
     },
     "metadata": {},
     "output_type": "display_data"
    },
    {
     "data": {
      "text/html": [
       "<pre>Number of feature columns   : 1</pre>"
      ],
      "text/plain": [
       "Number of feature columns   : 1"
      ]
     },
     "metadata": {},
     "output_type": "display_data"
    },
    {
     "data": {
      "text/html": [
       "<pre>Number of unpacked features : 150</pre>"
      ],
      "text/plain": [
       "Number of unpacked features : 150"
      ]
     },
     "metadata": {},
     "output_type": "display_data"
    },
    {
     "data": {
      "text/html": [
       "<pre>Number of coefficients      : 1661</pre>"
      ],
      "text/plain": [
       "Number of coefficients      : 1661"
      ]
     },
     "metadata": {},
     "output_type": "display_data"
    },
    {
     "data": {
      "text/html": [
       "<pre>Starting L-BFGS</pre>"
      ],
      "text/plain": [
       "Starting L-BFGS"
      ]
     },
     "metadata": {},
     "output_type": "display_data"
    },
    {
     "data": {
      "text/html": [
       "<pre>--------------------------------------------------------</pre>"
      ],
      "text/plain": [
       "--------------------------------------------------------"
      ]
     },
     "metadata": {},
     "output_type": "display_data"
    },
    {
     "data": {
      "text/html": [
       "<pre>+-----------+----------+-----------+--------------+-------------------+---------------------+</pre>"
      ],
      "text/plain": [
       "+-----------+----------+-----------+--------------+-------------------+---------------------+"
      ]
     },
     "metadata": {},
     "output_type": "display_data"
    },
    {
     "data": {
      "text/html": [
       "<pre>| Iteration | Passes   | Step size | Elapsed Time | Training Accuracy | Validation Accuracy |</pre>"
      ],
      "text/plain": [
       "| Iteration | Passes   | Step size | Elapsed Time | Training Accuracy | Validation Accuracy |"
      ]
     },
     "metadata": {},
     "output_type": "display_data"
    },
    {
     "data": {
      "text/html": [
       "<pre>+-----------+----------+-----------+--------------+-------------------+---------------------+</pre>"
      ],
      "text/plain": [
       "+-----------+----------+-----------+--------------+-------------------+---------------------+"
      ]
     },
     "metadata": {},
     "output_type": "display_data"
    },
    {
     "data": {
      "text/html": [
       "<pre>| 0         | 4        | 21.000000 | 0.031940     | 0.764108          | 0.797872            |</pre>"
      ],
      "text/plain": [
       "| 0         | 4        | 21.000000 | 0.031940     | 0.764108          | 0.797872            |"
      ]
     },
     "metadata": {},
     "output_type": "display_data"
    },
    {
     "data": {
      "text/html": [
       "<pre>| 1         | 8        | 5.250000  | 0.069252     | 0.742099          | 0.723404            |</pre>"
      ],
      "text/plain": [
       "| 1         | 8        | 5.250000  | 0.069252     | 0.742099          | 0.723404            |"
      ]
     },
     "metadata": {},
     "output_type": "display_data"
    },
    {
     "data": {
      "text/html": [
       "<pre>| 2         | 13       | 2.320904  | 0.109706     | 0.863431          | 0.734043            |</pre>"
      ],
      "text/plain": [
       "| 2         | 13       | 2.320904  | 0.109706     | 0.863431          | 0.734043            |"
      ]
     },
     "metadata": {},
     "output_type": "display_data"
    },
    {
     "data": {
      "text/html": [
       "<pre>| 3         | 15       | 1.603845  | 0.126030     | 0.919300          | 0.776596            |</pre>"
      ],
      "text/plain": [
       "| 3         | 15       | 1.603845  | 0.126030     | 0.919300          | 0.776596            |"
      ]
     },
     "metadata": {},
     "output_type": "display_data"
    },
    {
     "data": {
      "text/html": [
       "<pre>| 4         | 16       | 1.603845  | 0.140304     | 0.939052          | 0.776596            |</pre>"
      ],
      "text/plain": [
       "| 4         | 16       | 1.603845  | 0.140304     | 0.939052          | 0.776596            |"
      ]
     },
     "metadata": {},
     "output_type": "display_data"
    },
    {
     "data": {
      "text/html": [
       "<pre>| 9         | 22       | 1.444883  | 0.220752     | 0.986456          | 0.734043            |</pre>"
      ],
      "text/plain": [
       "| 9         | 22       | 1.444883  | 0.220752     | 0.986456          | 0.734043            |"
      ]
     },
     "metadata": {},
     "output_type": "display_data"
    },
    {
     "data": {
      "text/html": [
       "<pre>+-----------+----------+-----------+--------------+-------------------+---------------------+</pre>"
      ],
      "text/plain": [
       "+-----------+----------+-----------+--------------+-------------------+---------------------+"
      ]
     },
     "metadata": {},
     "output_type": "display_data"
    },
    {
     "name": "stdout",
     "output_type": "stream",
     "text": [
      "PROGRESS: Model selection based on validation accuracy:\n",
      "PROGRESS: ---------------------------------------------\n",
      "PROGRESS: BoostedTreesClassifier          : 0.8191489361702128\n",
      "PROGRESS: RandomForestClassifier          : 0.7978723404255319\n",
      "PROGRESS: DecisionTreeClassifier          : 0.7127659574468085\n",
      "PROGRESS: LogisticClassifier              : 0.7340425531914894\n",
      "PROGRESS: ---------------------------------------------\n",
      "PROGRESS: Selecting BoostedTreesClassifier based on validation set performance.\n"
     ]
    }
   ],
   "source": [
    "from sklearn.decomposition import PCA\n",
    "\n",
    "data = get_dataset_data(4)\n",
    "X = data['sequence']\n",
    "pca = PCA(n_components=150)\n",
    "pca.fit(X) # fit data and then transform it\n",
    "X_pca = pca.transform(X)\n",
    "\n",
    "data['sequence'] = X_pca\n",
    "s_frame = tc.SFrame(data=data)\n",
    "\n",
    "moel = tc.classifier.create(s_frame, target='target')"
   ]
  },
  {
   "cell_type": "markdown",
   "id": "2cce206d",
   "metadata": {},
   "source": [
    "## Trying new appraoch"
   ]
  },
  {
   "cell_type": "code",
   "execution_count": 45,
   "id": "73fc649a",
   "metadata": {},
   "outputs": [],
   "source": [
    "from sklearn import __version__ as sklearn_version\n",
    "from sklearn.neural_network import MLPClassifier\n",
    "from sklearn.metrics import accuracy_score\n",
    "from sklearn.model_selection import train_test_split"
   ]
  },
  {
   "cell_type": "markdown",
   "id": "8ce9ebac",
   "metadata": {},
   "source": [
    "# Split data for Model development"
   ]
  },
  {
   "cell_type": "code",
   "execution_count": 46,
   "id": "f7571b67",
   "metadata": {},
   "outputs": [],
   "source": [
    "data = get_dataset_data(4)\n",
    "X = data['sequence']\n",
    "\n",
    "encode_rotation = {'x90':0,\n",
    "                  'xNeg90':1,\n",
    "                  'x180':2,\n",
    "                  'xNeg180':3,\n",
    "                  'y90':4,\n",
    "                  'yNeg90':5,\n",
    "                  'y180':6,\n",
    "                  'yNeg180':7,\n",
    "                  'z90':8,\n",
    "                  'zNeg90':9,\n",
    "                  'z180':10,\n",
    "                  'zNeg180':11}\n",
    "\n",
    "y = np.array([ encode_rotation[s] for s in data['target']])"
   ]
  },
  {
   "cell_type": "code",
   "execution_count": 47,
   "id": "fcd31aa4",
   "metadata": {},
   "outputs": [],
   "source": [
    "x_train, x_test, y_train, y_test = train_test_split(X, y, test_size=0.2, stratify=y)"
   ]
  },
  {
   "cell_type": "code",
   "execution_count": 48,
   "id": "50ede824",
   "metadata": {},
   "outputs": [],
   "source": [
    "def get_mlp_1(x, y, ephocs=150):\n",
    "    clf = MLPClassifier(hidden_layer_sizes=(50, 25), \n",
    "                        activation='relu', # compare to sigmoid\n",
    "                        solver='adam',\n",
    "                        alpha=1e-4, # L2 penalty\n",
    "                        batch_size='auto', # min of 200, num_samples\n",
    "                        learning_rate='constant', \n",
    "                        #learning_rate_init=0.2, # only SGD\n",
    "                        #power_t=0.5,    # only SGD\n",
    "                        max_iter=ephocs, \n",
    "                        shuffle=True, \n",
    "                        random_state=1, \n",
    "                        tol=1e-9, # for stopping\n",
    "                        verbose=False, \n",
    "                        warm_start=False, \n",
    "                        momentum=0.9, # only SGD\n",
    "                        #nesterovs_momentum=True, # only SGD\n",
    "                        early_stopping=False, \n",
    "                        validation_fraction=0.1, # only if early_stop is true\n",
    "                        beta_1=0.9, # adam decay rate of moment\n",
    "                        beta_2=0.999, # adam decay rate of moment\n",
    "                        epsilon=1e-08) # adam numerical stabilizer\n",
    "    clf.fit(x, y)\n",
    "    return clf"
   ]
  },
  {
   "cell_type": "code",
   "execution_count": 49,
   "id": "f599291f",
   "metadata": {},
   "outputs": [
    {
     "name": "stdout",
     "output_type": "stream",
     "text": [
      "CPU times: user 4.37 s, sys: 6.34 s, total: 10.7 s\n",
      "Wall time: 1.62 s\n"
     ]
    },
    {
     "name": "stderr",
     "output_type": "stream",
     "text": [
      "/Users/nicholaslarsen/opt/anaconda3/envs/mlenv2020/lib/python3.7/site-packages/sklearn/neural_network/_multilayer_perceptron.py:696: ConvergenceWarning: Stochastic Optimizer: Maximum iterations (150) reached and the optimization hasn't converged yet.\n",
      "  ConvergenceWarning,\n"
     ]
    }
   ],
   "source": [
    "%time clf = get_mlp_1(x_train, y_train)"
   ]
  },
  {
   "cell_type": "code",
   "execution_count": 50,
   "id": "b9b20491",
   "metadata": {},
   "outputs": [
    {
     "name": "stdout",
     "output_type": "stream",
     "text": [
      "Validation Acc: 0.9993297587131368\n"
     ]
    }
   ],
   "source": [
    "\n",
    "yhat = clf.predict(x_train)\n",
    "print('Validation Acc:',accuracy_score(yhat,y_train))"
   ]
  },
  {
   "cell_type": "code",
   "execution_count": 51,
   "id": "727e3214",
   "metadata": {},
   "outputs": [
    {
     "name": "stdout",
     "output_type": "stream",
     "text": [
      "Validation Acc: 0.9144385026737968\n"
     ]
    }
   ],
   "source": [
    "yhat = clf.predict(x_test)\n",
    "print('Validation Acc:',accuracy_score(yhat,y_test))"
   ]
  },
  {
   "cell_type": "markdown",
   "id": "f5dfe592",
   "metadata": {},
   "source": [
    "## Perform Strat K Fold"
   ]
  },
  {
   "cell_type": "code",
   "execution_count": 52,
   "id": "131b7a40",
   "metadata": {},
   "outputs": [],
   "source": [
    "from sklearn.model_selection import StratifiedKFold\n",
    "data = get_dataset_data(4)\n",
    "X = data['sequence']\n",
    "y = np.array([ encode_rotation[s] for s in data['target']])"
   ]
  },
  {
   "cell_type": "code",
   "execution_count": 53,
   "id": "7ca0c00d",
   "metadata": {},
   "outputs": [],
   "source": [
    "kfold = StratifiedKFold(n_splits=10).split(X, y)"
   ]
  },
  {
   "cell_type": "code",
   "execution_count": 54,
   "id": "73ca1609",
   "metadata": {},
   "outputs": [
    {
     "name": "stderr",
     "output_type": "stream",
     "text": [
      "/Users/nicholaslarsen/opt/anaconda3/envs/mlenv2020/lib/python3.7/site-packages/sklearn/neural_network/_multilayer_perceptron.py:696: ConvergenceWarning: Stochastic Optimizer: Maximum iterations (500) reached and the optimization hasn't converged yet.\n",
      "  ConvergenceWarning,\n",
      "/Users/nicholaslarsen/opt/anaconda3/envs/mlenv2020/lib/python3.7/site-packages/sklearn/neural_network/_multilayer_perceptron.py:696: ConvergenceWarning: Stochastic Optimizer: Maximum iterations (500) reached and the optimization hasn't converged yet.\n",
      "  ConvergenceWarning,\n",
      "/Users/nicholaslarsen/opt/anaconda3/envs/mlenv2020/lib/python3.7/site-packages/sklearn/neural_network/_multilayer_perceptron.py:696: ConvergenceWarning: Stochastic Optimizer: Maximum iterations (500) reached and the optimization hasn't converged yet.\n",
      "  ConvergenceWarning,\n",
      "/Users/nicholaslarsen/opt/anaconda3/envs/mlenv2020/lib/python3.7/site-packages/sklearn/neural_network/_multilayer_perceptron.py:696: ConvergenceWarning: Stochastic Optimizer: Maximum iterations (500) reached and the optimization hasn't converged yet.\n",
      "  ConvergenceWarning,\n",
      "/Users/nicholaslarsen/opt/anaconda3/envs/mlenv2020/lib/python3.7/site-packages/sklearn/neural_network/_multilayer_perceptron.py:696: ConvergenceWarning: Stochastic Optimizer: Maximum iterations (500) reached and the optimization hasn't converged yet.\n",
      "  ConvergenceWarning,\n",
      "/Users/nicholaslarsen/opt/anaconda3/envs/mlenv2020/lib/python3.7/site-packages/sklearn/neural_network/_multilayer_perceptron.py:696: ConvergenceWarning: Stochastic Optimizer: Maximum iterations (500) reached and the optimization hasn't converged yet.\n",
      "  ConvergenceWarning,\n",
      "/Users/nicholaslarsen/opt/anaconda3/envs/mlenv2020/lib/python3.7/site-packages/sklearn/neural_network/_multilayer_perceptron.py:696: ConvergenceWarning: Stochastic Optimizer: Maximum iterations (500) reached and the optimization hasn't converged yet.\n",
      "  ConvergenceWarning,\n",
      "/Users/nicholaslarsen/opt/anaconda3/envs/mlenv2020/lib/python3.7/site-packages/sklearn/neural_network/_multilayer_perceptron.py:696: ConvergenceWarning: Stochastic Optimizer: Maximum iterations (500) reached and the optimization hasn't converged yet.\n",
      "  ConvergenceWarning,\n",
      "/Users/nicholaslarsen/opt/anaconda3/envs/mlenv2020/lib/python3.7/site-packages/sklearn/neural_network/_multilayer_perceptron.py:696: ConvergenceWarning: Stochastic Optimizer: Maximum iterations (500) reached and the optimization hasn't converged yet.\n",
      "  ConvergenceWarning,\n"
     ]
    },
    {
     "name": "stdout",
     "output_type": "stream",
     "text": [
      "Acc: 0.8502673796791443\n",
      "Acc: 0.8609625668449198\n",
      "Acc: 0.8983957219251337\n",
      "Acc: 0.8609625668449198\n",
      "Acc: 0.93048128342246\n",
      "Acc: 0.8235294117647058\n",
      "Acc: 0.8978494623655914\n",
      "Acc: 0.8817204301075269\n",
      "Acc: 0.9193548387096774\n",
      "Acc: 0.8924731182795699\n"
     ]
    },
    {
     "name": "stderr",
     "output_type": "stream",
     "text": [
      "/Users/nicholaslarsen/opt/anaconda3/envs/mlenv2020/lib/python3.7/site-packages/sklearn/neural_network/_multilayer_perceptron.py:696: ConvergenceWarning: Stochastic Optimizer: Maximum iterations (500) reached and the optimization hasn't converged yet.\n",
      "  ConvergenceWarning,\n"
     ]
    }
   ],
   "source": [
    "skf = StratifiedKFold(n_splits=10, random_state=1, shuffle=True)\n",
    "\n",
    "accs = []\n",
    "for train, test in skf.split(X,y):\n",
    "    x_train, x_test = X[train], X[test]\n",
    "    y_train, y_test = y[train], y[test]\n",
    "    \n",
    "    clf = get_mlp_1(x_train, y_train, ephocs=500)\n",
    "    yhat = clf.predict(x_test)\n",
    "    accs.append(accuracy_score(yhat, y_test))\n",
    "    \n",
    "for a in accs:\n",
    "    print(\"Acc:\", a)"
   ]
  },
  {
   "cell_type": "markdown",
   "id": "ab64249f",
   "metadata": {},
   "source": [
    "# Attempt 2 with a Deeper Network"
   ]
  },
  {
   "cell_type": "code",
   "execution_count": 34,
   "id": "169230c3",
   "metadata": {},
   "outputs": [],
   "source": [
    "def get_mlp_2(x, y, ephocs=150):\n",
    "    clf = MLPClassifier(hidden_layer_sizes=(100, 50, 25, 10), \n",
    "                        activation='relu', # compare to sigmoid\n",
    "                        solver='adam', \n",
    "                        alpha=1e-4, # L2 penalty\n",
    "                        batch_size='auto', # min of 200, num_samples\n",
    "                        learning_rate='constant', \n",
    "                        #learning_rate_init=0.2, # only SGD\n",
    "                        #power_t=0.5,    # only SGD\n",
    "                        max_iter=ephocs, \n",
    "                        shuffle=True, \n",
    "                        random_state=1, \n",
    "                        tol=1e-9, # for stopping\n",
    "                        verbose=False, \n",
    "                        warm_start=False, \n",
    "                        momentum=0.9, # only SGD\n",
    "                        #nesterovs_momentum=True, # only SGD\n",
    "                        early_stopping=False, \n",
    "                        validation_fraction=0.1, # only if early_stop is true\n",
    "                        beta_1=0.9, # adam decay rate of moment\n",
    "                        beta_2=0.999, # adam decay rate of moment\n",
    "                        epsilon=1e-08) # adam numerical stabilizer\n",
    "    clf.fit(x, y)\n",
    "    return clf"
   ]
  },
  {
   "cell_type": "code",
   "execution_count": 35,
   "id": "905b6b3e",
   "metadata": {},
   "outputs": [
    {
     "name": "stdout",
     "output_type": "stream",
     "text": [
      "Validation Acc: 0.8823529411764706\n",
      "CPU times: user 9.04 s, sys: 11.6 s, total: 20.6 s\n",
      "Wall time: 2.98 s\n"
     ]
    },
    {
     "name": "stderr",
     "output_type": "stream",
     "text": [
      "/Users/nicholaslarsen/opt/anaconda3/envs/mlenv2020/lib/python3.7/site-packages/sklearn/neural_network/_multilayer_perceptron.py:696: ConvergenceWarning: Stochastic Optimizer: Maximum iterations (150) reached and the optimization hasn't converged yet.\n",
      "  ConvergenceWarning,\n"
     ]
    }
   ],
   "source": [
    "%%time\n",
    "x_train, x_test, y_train, y_test = train_test_split(X, y, test_size=0.2, stratify=y)\n",
    "clf = get_mlp_2(x_train, y_train)\n",
    "yhat = clf.predict(x_test)\n",
    "print('Validation Acc:',accuracy_score(yhat,y_test))"
   ]
  },
  {
   "cell_type": "code",
   "execution_count": 55,
   "id": "3c507a30",
   "metadata": {},
   "outputs": [
    {
     "name": "stdout",
     "output_type": "stream",
     "text": [
      "Validation Acc: 0.8924731182795699\n"
     ]
    }
   ],
   "source": [
    "import pickle\n",
    "pickle.dump(clf, open('./model1_4.save', 'wb'))\n",
    "\n",
    "clf1_2 = pickle.load(open('./model1_4.save', 'rb'))\n",
    "\n",
    "yhat = clf.predict(x_test)\n",
    "print('Validation Acc:',accuracy_score(yhat,y_test))"
   ]
  },
  {
   "cell_type": "markdown",
   "id": "dea61fa1",
   "metadata": {},
   "source": [
    "# Results\n",
    "\n",
    "\n",
    "The deeper model did not give us any meaningful increased accuracy, we are going to continue with the first model."
   ]
  }
 ],
 "metadata": {
  "kernelspec": {
   "display_name": "Python 3 (ipykernel)",
   "language": "python",
   "name": "python3"
  },
  "language_info": {
   "codemirror_mode": {
    "name": "ipython",
    "version": 3
   },
   "file_extension": ".py",
   "mimetype": "text/x-python",
   "name": "python",
   "nbconvert_exporter": "python",
   "pygments_lexer": "ipython3",
   "version": "3.7.11"
  }
 },
 "nbformat": 4,
 "nbformat_minor": 5
}
