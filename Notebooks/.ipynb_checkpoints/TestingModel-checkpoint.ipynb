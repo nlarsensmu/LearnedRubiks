{
 "cells": [
  {
   "cell_type": "code",
   "execution_count": 68,
   "id": "cb2a13bf",
   "metadata": {},
   "outputs": [],
   "source": [
    "import turicreate as tc\n",
    "import numpy as np"
   ]
  },
  {
   "cell_type": "code",
   "execution_count": 69,
   "id": "b3b59b9e",
   "metadata": {},
   "outputs": [
    {
     "data": {
      "text/plain": [
       "'6.4.1'"
      ]
     },
     "execution_count": 69,
     "metadata": {},
     "output_type": "execute_result"
    }
   ],
   "source": [
    "tc.__version__"
   ]
  },
  {
   "cell_type": "code",
   "execution_count": 70,
   "id": "c0108d76",
   "metadata": {},
   "outputs": [],
   "source": [
    "from pymongo import MongoClient"
   ]
  },
  {
   "cell_type": "code",
   "execution_count": 71,
   "id": "aeb9cfd0",
   "metadata": {},
   "outputs": [],
   "source": [
    "client = MongoClient(serverSelectionTimeoutMS=50)\n",
    "db = client.turidatabase"
   ]
  },
  {
   "cell_type": "code",
   "execution_count": 72,
   "id": "c17a1123",
   "metadata": {},
   "outputs": [
    {
     "data": {
      "text/plain": [
       "<pymongo.cursor.Cursor at 0x7fc862c8d910>"
      ]
     },
     "execution_count": 72,
     "metadata": {},
     "output_type": "execute_result"
    }
   ],
   "source": [
    "db.labeledinstances.find({'dsid': 4})"
   ]
  },
  {
   "cell_type": "code",
   "execution_count": 73,
   "id": "77d66e84",
   "metadata": {},
   "outputs": [
    {
     "data": {
      "text/plain": [
       "Database(MongoClient(host=['localhost:27017'], document_class=dict, tz_aware=False, connect=True, serverselectiontimeoutms=50), 'turidatabase')"
      ]
     },
     "execution_count": 73,
     "metadata": {},
     "output_type": "execute_result"
    }
   ],
   "source": [
    "db"
   ]
  },
  {
   "cell_type": "code",
   "execution_count": 74,
   "id": "25f119f5",
   "metadata": {},
   "outputs": [],
   "source": [
    "def get_dataset_data(dsid):\n",
    "    features = []\n",
    "    labels = []\n",
    "    \n",
    "    for a in db.labeledinstances.find({\"dsid\": dsid}):\n",
    "        features.append([float(val) for val in a['feature']])\n",
    "        labels.append(a['label'])\n",
    "        \n",
    "    data = {'target': labels, 'sequence':np.array(features)}\n",
    "    \n",
    "    return data\n",
    "\n",
    "\n",
    "def get_dataset_sframe(dsid):\n",
    "    data = get_dataset_data(dsid)\n",
    "    return tc.SFrame(data=data)\n"
   ]
  },
  {
   "cell_type": "code",
   "execution_count": 75,
   "id": "f7d7e391",
   "metadata": {},
   "outputs": [],
   "source": [
    "dsid_4_sframe = get_dataset_sframe(4)"
   ]
  },
  {
   "cell_type": "markdown",
   "id": "ad00a47f",
   "metadata": {},
   "source": [
    "## Create a defualt model"
   ]
  },
  {
   "cell_type": "code",
   "execution_count": 105,
   "id": "5b486b8e",
   "metadata": {
    "scrolled": false
   },
   "outputs": [],
   "source": [
    "moel = tc.classifier.create(dsid_4_sframe, target='target', verbose=False)"
   ]
  },
  {
   "cell_type": "code",
   "execution_count": 78,
   "id": "96b3fab0",
   "metadata": {},
   "outputs": [
    {
     "data": {
      "text/plain": [
       "Database(MongoClient(host=['localhost:27017'], document_class=dict, tz_aware=False, connect=True, serverselectiontimeoutms=50), 'turidatabase')"
      ]
     },
     "execution_count": 78,
     "metadata": {},
     "output_type": "execute_result"
    }
   ],
   "source": [
    "db"
   ]
  },
  {
   "cell_type": "code",
   "execution_count": 79,
   "id": "ffff4090",
   "metadata": {},
   "outputs": [
    {
     "name": "stderr",
     "output_type": "stream",
     "text": [
      "/Users/nicholaslarsen/opt/anaconda3/envs/mlenv2020/lib/python3.7/site-packages/ipykernel_launcher.py:1: DeprecationWarning: update is deprecated. Use replace_one, update_one or update_many instead.\n",
      "  \"\"\"Entry point for launching an IPython kernel.\n"
     ]
    },
    {
     "data": {
      "text/plain": [
       "{'n': 1,\n",
       " 'upserted': ObjectId('618c9dfe14e5094753fd1367'),\n",
       " 'nModified': 0,\n",
       " 'ok': 1.0,\n",
       " 'updatedExisting': False}"
      ]
     },
     "execution_count": 79,
     "metadata": {},
     "output_type": "execute_result"
    }
   ],
   "source": [
    "db.trainedmodels.update({\"dsid\": 1}, {\"$set\": {\"ds_id\":1, \"ACC:\": 0.99, \"path\": 'path13'}}, upsert=True)"
   ]
  },
  {
   "cell_type": "code",
   "execution_count": 101,
   "id": "ebc1b061",
   "metadata": {},
   "outputs": [
    {
     "data": {
      "text/plain": [
       "1866"
      ]
     },
     "execution_count": 101,
     "metadata": {},
     "output_type": "execute_result"
    }
   ],
   "source": [
    "doc = db.trainedmodels.find_one({\"dsid\":4})\n",
    "doc[\"count\"]"
   ]
  },
  {
   "cell_type": "code",
   "execution_count": 102,
   "id": "29e72782",
   "metadata": {},
   "outputs": [
    {
     "data": {
      "text/plain": [
       "0.9941050375133976"
      ]
     },
     "execution_count": 102,
     "metadata": {},
     "output_type": "execute_result"
    }
   ],
   "source": [
    "doc[\"acc_mlp\"]"
   ]
  },
  {
   "cell_type": "code",
   "execution_count": 103,
   "id": "7ba532ec",
   "metadata": {},
   "outputs": [
    {
     "data": {
      "text/plain": [
       "{'_id': ObjectId('618f0adf14e5094753ff8d61'),\n",
       " 'dsid': 4,\n",
       " 'acc_mlp': 0.9941050375133976,\n",
       " 'acc_turi': 0.9914255091103966,\n",
       " 'count': 1866,\n",
       " 'path_mlp': '../models/mlp_model_dsid4',\n",
       " 'path_turi': '../models/mlp_model_dsid4'}"
      ]
     },
     "execution_count": 103,
     "metadata": {},
     "output_type": "execute_result"
    }
   ],
   "source": [
    "doc"
   ]
  },
  {
   "cell_type": "code",
   "execution_count": 100,
   "id": "38e9f792",
   "metadata": {},
   "outputs": [
    {
     "ename": "KeyError",
     "evalue": "'acc_mlp'",
     "output_type": "error",
     "traceback": [
      "\u001b[0;31m---------------------------------------------------------------------------\u001b[0m",
      "\u001b[0;31mKeyError\u001b[0m                                  Traceback (most recent call last)",
      "\u001b[0;32m/var/folders/yx/th_lc0l914x28tr6m8787fnr0000gn/T/ipykernel_10018/2911400194.py\u001b[0m in \u001b[0;36m<module>\u001b[0;34m\u001b[0m\n\u001b[0;32m----> 1\u001b[0;31m \u001b[0mdoc\u001b[0m\u001b[0;34m[\u001b[0m\u001b[0;34m\"acc_mlp\"\u001b[0m\u001b[0;34m]\u001b[0m\u001b[0;34m\u001b[0m\u001b[0;34m\u001b[0m\u001b[0m\n\u001b[0m",
      "\u001b[0;31mKeyError\u001b[0m: 'acc_mlp'"
     ]
    }
   ],
   "source": [
    "doc[\"acc_mlp\"]"
   ]
  },
  {
   "cell_type": "markdown",
   "id": "c2e769fb",
   "metadata": {},
   "source": [
    "## Try a MLP from SKLearn"
   ]
  },
  {
   "cell_type": "code",
   "execution_count": 106,
   "id": "f309c265",
   "metadata": {},
   "outputs": [],
   "source": [
    "data = get_dataset_data(4)\n",
    "X = data['sequence']\n",
    "\n",
    "encode_rotation = {'x90':0,\n",
    "                  'xNeg90':1,\n",
    "                  'x180':2,\n",
    "                  'xNeg180':3,\n",
    "                  'y90':4,\n",
    "                  'yNeg90':5,\n",
    "                  'y180':6,\n",
    "                  'yNeg180':7,\n",
    "                  'z90':8,\n",
    "                  'zNeg90':9,\n",
    "                  'z180':10,\n",
    "                  'zNeg180':11}\n",
    "\n",
    "y = np.array([ encode_rotation[s] for s in data['target']])"
   ]
  },
  {
   "cell_type": "code",
   "execution_count": 108,
   "id": "75669d14",
   "metadata": {},
   "outputs": [],
   "source": [
    "from sklearn import __version__ as sklearn_version\n",
    "from sklearn.neural_network import MLPClassifier\n",
    "from sklearn.metrics import accuracy_score\n",
    "from sklearn.model_selection import train_test_split\n",
    "x_train, x_test, y_train, y_test = train_test_split(X, y, test_size=0.2, stratify=y)"
   ]
  },
  {
   "cell_type": "code",
   "execution_count": 109,
   "id": "5a6b46bc",
   "metadata": {},
   "outputs": [],
   "source": [
    "\n",
    "def get_mlp_1(x, y, ephocs=150):\n",
    "    clf = MLPClassifier(hidden_layer_sizes=(50, 25), \n",
    "                        activation='relu',\n",
    "                        solver='adam',\n",
    "                        alpha=1e-4, # L2 penalty\n",
    "                        batch_size='auto', # min of 200, num_samples\n",
    "                        learning_rate='constant', \n",
    "                        #learning_rate_init=0.2, # only SGD\n",
    "                        #power_t=0.5,    # only SGD\n",
    "                        max_iter=ephocs, \n",
    "                        shuffle=True, \n",
    "                        random_state=1, \n",
    "                        tol=1e-9, # for stopping\n",
    "                        verbose=False, \n",
    "                        warm_start=False, \n",
    "                        momentum=0.9, # only SGD\n",
    "                        #nesterovs_momentum=True, # only SGD\n",
    "                        early_stopping=False, \n",
    "                        validation_fraction=0.1, # only if early_stop is true\n",
    "                        beta_1=0.9, # adam decay rate of moment\n",
    "                        beta_2=0.999, # adam decay rate of moment\n",
    "                        epsilon=1e-08) # adam numerical stabilizer\n",
    "    clf.fit(x, y)\n",
    "    return clf"
   ]
  },
  {
   "cell_type": "code",
   "execution_count": 110,
   "id": "2064d969",
   "metadata": {},
   "outputs": [
    {
     "name": "stdout",
     "output_type": "stream",
     "text": [
      "CPU times: user 9.56 s, sys: 1.17 s, total: 10.7 s\n",
      "Wall time: 1.44 s\n"
     ]
    },
    {
     "name": "stderr",
     "output_type": "stream",
     "text": [
      "/Users/nicholaslarsen/opt/anaconda3/envs/mlenv2020/lib/python3.7/site-packages/sklearn/neural_network/_multilayer_perceptron.py:617: ConvergenceWarning: Stochastic Optimizer: Maximum iterations (150) reached and the optimization hasn't converged yet.\n",
      "  % self.max_iter, ConvergenceWarning)\n"
     ]
    }
   ],
   "source": [
    "\n",
    "%time clf = get_mlp_1(x_train, y_train)"
   ]
  },
  {
   "cell_type": "code",
   "execution_count": 111,
   "id": "8501c503",
   "metadata": {},
   "outputs": [
    {
     "name": "stdout",
     "output_type": "stream",
     "text": [
      "Validation Acc: 0.9986595174262735\n",
      "Testing Acc: 0.9010695187165776\n"
     ]
    }
   ],
   "source": [
    "yhat = clf.predict(x_train)\n",
    "print('Validation Acc:',accuracy_score(yhat,y_train))\n",
    "yhat = clf.predict(x_test)\n",
    "print('Testing Acc:',accuracy_score(yhat,y_test))"
   ]
  },
  {
   "cell_type": "markdown",
   "id": "49a01e46",
   "metadata": {},
   "source": [
    "### Try on KFolds"
   ]
  },
  {
   "cell_type": "code",
   "execution_count": 112,
   "id": "37a5ac6c",
   "metadata": {},
   "outputs": [],
   "source": [
    "\n",
    "from sklearn.model_selection import StratifiedKFold\n",
    "data = get_dataset_data(4)\n",
    "X = data['sequence']\n",
    "y = np.array([ encode_rotation[s] for s in data['target']])"
   ]
  },
  {
   "cell_type": "code",
   "execution_count": 113,
   "id": "c9dabe42",
   "metadata": {},
   "outputs": [
    {
     "name": "stderr",
     "output_type": "stream",
     "text": [
      "/Users/nicholaslarsen/opt/anaconda3/envs/mlenv2020/lib/python3.7/site-packages/sklearn/neural_network/_multilayer_perceptron.py:617: ConvergenceWarning: Stochastic Optimizer: Maximum iterations (500) reached and the optimization hasn't converged yet.\n",
      "  % self.max_iter, ConvergenceWarning)\n",
      "/Users/nicholaslarsen/opt/anaconda3/envs/mlenv2020/lib/python3.7/site-packages/sklearn/neural_network/_multilayer_perceptron.py:617: ConvergenceWarning: Stochastic Optimizer: Maximum iterations (500) reached and the optimization hasn't converged yet.\n",
      "  % self.max_iter, ConvergenceWarning)\n",
      "/Users/nicholaslarsen/opt/anaconda3/envs/mlenv2020/lib/python3.7/site-packages/sklearn/neural_network/_multilayer_perceptron.py:617: ConvergenceWarning: Stochastic Optimizer: Maximum iterations (500) reached and the optimization hasn't converged yet.\n",
      "  % self.max_iter, ConvergenceWarning)\n",
      "/Users/nicholaslarsen/opt/anaconda3/envs/mlenv2020/lib/python3.7/site-packages/sklearn/neural_network/_multilayer_perceptron.py:617: ConvergenceWarning: Stochastic Optimizer: Maximum iterations (500) reached and the optimization hasn't converged yet.\n",
      "  % self.max_iter, ConvergenceWarning)\n",
      "/Users/nicholaslarsen/opt/anaconda3/envs/mlenv2020/lib/python3.7/site-packages/sklearn/neural_network/_multilayer_perceptron.py:617: ConvergenceWarning: Stochastic Optimizer: Maximum iterations (500) reached and the optimization hasn't converged yet.\n",
      "  % self.max_iter, ConvergenceWarning)\n",
      "/Users/nicholaslarsen/opt/anaconda3/envs/mlenv2020/lib/python3.7/site-packages/sklearn/neural_network/_multilayer_perceptron.py:617: ConvergenceWarning: Stochastic Optimizer: Maximum iterations (500) reached and the optimization hasn't converged yet.\n",
      "  % self.max_iter, ConvergenceWarning)\n",
      "/Users/nicholaslarsen/opt/anaconda3/envs/mlenv2020/lib/python3.7/site-packages/sklearn/neural_network/_multilayer_perceptron.py:617: ConvergenceWarning: Stochastic Optimizer: Maximum iterations (500) reached and the optimization hasn't converged yet.\n",
      "  % self.max_iter, ConvergenceWarning)\n",
      "/Users/nicholaslarsen/opt/anaconda3/envs/mlenv2020/lib/python3.7/site-packages/sklearn/neural_network/_multilayer_perceptron.py:617: ConvergenceWarning: Stochastic Optimizer: Maximum iterations (500) reached and the optimization hasn't converged yet.\n",
      "  % self.max_iter, ConvergenceWarning)\n",
      "/Users/nicholaslarsen/opt/anaconda3/envs/mlenv2020/lib/python3.7/site-packages/sklearn/neural_network/_multilayer_perceptron.py:617: ConvergenceWarning: Stochastic Optimizer: Maximum iterations (500) reached and the optimization hasn't converged yet.\n",
      "  % self.max_iter, ConvergenceWarning)\n"
     ]
    },
    {
     "name": "stdout",
     "output_type": "stream",
     "text": [
      "Acc: 0.8502673796791443\n",
      "Acc: 0.8609625668449198\n",
      "Acc: 0.8983957219251337\n",
      "Acc: 0.8609625668449198\n",
      "Acc: 0.93048128342246\n",
      "Acc: 0.8235294117647058\n",
      "Acc: 0.8978494623655914\n",
      "Acc: 0.8817204301075269\n",
      "Acc: 0.9193548387096774\n",
      "Acc: 0.8924731182795699\n"
     ]
    },
    {
     "name": "stderr",
     "output_type": "stream",
     "text": [
      "/Users/nicholaslarsen/opt/anaconda3/envs/mlenv2020/lib/python3.7/site-packages/sklearn/neural_network/_multilayer_perceptron.py:617: ConvergenceWarning: Stochastic Optimizer: Maximum iterations (500) reached and the optimization hasn't converged yet.\n",
      "  % self.max_iter, ConvergenceWarning)\n"
     ]
    }
   ],
   "source": [
    "\n",
    "skf = StratifiedKFold(n_splits=10, random_state=1, shuffle=True)\n",
    "\n",
    "accs = []\n",
    "for train, test in skf.split(X,y):\n",
    "    x_train, x_test = X[train], X[test]\n",
    "    y_train, y_test = y[train], y[test]\n",
    "    \n",
    "    clf = get_mlp_1(x_train, y_train, ephocs=500)\n",
    "    yhat = clf.predict(x_test)\n",
    "    accs.append(accuracy_score(yhat, y_test))\n",
    "    \n",
    "for a in accs:\n",
    "    print(\"Acc:\", a)"
   ]
  },
  {
   "cell_type": "code",
   "execution_count": 115,
   "id": "8176f629",
   "metadata": {},
   "outputs": [
    {
     "data": {
      "text/plain": [
       "0.8815996779943648"
      ]
     },
     "execution_count": 115,
     "metadata": {},
     "output_type": "execute_result"
    }
   ],
   "source": [
    "np.mean(accs)"
   ]
  },
  {
   "cell_type": "code",
   "execution_count": 116,
   "id": "2fcd265c",
   "metadata": {},
   "outputs": [],
   "source": [
    "## Attempt 2"
   ]
  },
  {
   "cell_type": "code",
   "execution_count": 162,
   "id": "267b1516",
   "metadata": {},
   "outputs": [],
   "source": [
    "\n",
    "def get_mlp_2(x, y, ephocs=150):\n",
    "    clf = MLPClassifier(hidden_layer_sizes=(100, 50), \n",
    "                        activation='relu',\n",
    "                        solver='sgd', \n",
    "                        alpha=1e-4, # L2 penalty\n",
    "                        batch_size='auto', # min of 200, num_samples\n",
    "                        learning_rate='constant', \n",
    "                        learning_rate_init=0.5, # only SGD\n",
    "                        power_t=0.2,    # only SGD\n",
    "                        max_iter=ephocs, \n",
    "                        shuffle=True, \n",
    "                        random_state=1, \n",
    "                        tol=1e-9, # for stopping\n",
    "                        verbose=False, \n",
    "                        warm_start=False, \n",
    "                        momentum=0.9, # only SGD\n",
    "                        #nesterovs_momentum=True, # only SGD\n",
    "                        early_stopping=False, \n",
    "                        validation_fraction=0.1, # only if early_stop is true\n",
    "#                        beta_1=0.9, # adam decay rate of moment\n",
    "#                        beta_2=0.999, # adam decay rate of moment\n",
    "                        epsilon=1e-08) # adam numerical stabilizer\n",
    "    clf.fit(x, y)\n",
    "    return clf"
   ]
  },
  {
   "cell_type": "code",
   "execution_count": 163,
   "id": "f5279a4b",
   "metadata": {},
   "outputs": [
    {
     "name": "stdout",
     "output_type": "stream",
     "text": [
      "valid acc: 0.9792225201072386\n",
      "test Acc: 0.8903743315508021\n",
      "CPU times: user 3.08 s, sys: 341 ms, total: 3.42 s\n",
      "Wall time: 456 ms\n"
     ]
    }
   ],
   "source": [
    "%%time\n",
    "x_train, x_test, y_train, y_test = train_test_split(X, y, test_size=0.2, stratify=y)\n",
    "clf = get_mlp_2(x_train, y_train)\n",
    "yhat = clf.predict(x_train)\n",
    "print('valid acc:', accuracy_score(yhat, y_train))\n",
    "yhat = clf.predict(x_test)\n",
    "print('test Acc:',accuracy_score(yhat,y_test))"
   ]
  },
  {
   "cell_type": "code",
   "execution_count": 164,
   "id": "e6383bca",
   "metadata": {},
   "outputs": [
    {
     "name": "stderr",
     "output_type": "stream",
     "text": [
      "/Users/nicholaslarsen/opt/anaconda3/envs/mlenv2020/lib/python3.7/site-packages/sklearn/neural_network/_multilayer_perceptron.py:617: ConvergenceWarning: Stochastic Optimizer: Maximum iterations (150) reached and the optimization hasn't converged yet.\n",
      "  % self.max_iter, ConvergenceWarning)\n"
     ]
    },
    {
     "name": "stdout",
     "output_type": "stream",
     "text": [
      "Acc: 0.8770053475935828\n",
      "Acc: 0.9037433155080213\n",
      "Acc: 0.8877005347593583\n",
      "Acc: 0.8716577540106952\n",
      "Acc: 0.8609625668449198\n",
      "Acc: 0.8128342245989305\n",
      "Acc: 0.8548387096774194\n",
      "Acc: 0.8225806451612904\n",
      "Acc: 0.8817204301075269\n",
      "Acc: 0.9032258064516129\n",
      "Mean: 0.8676269334713357\n",
      "CPU times: user 50.5 s, sys: 5.4 s, total: 55.9 s\n",
      "Wall time: 7.25 s\n"
     ]
    }
   ],
   "source": [
    "%%time\n",
    "skf = StratifiedKFold(n_splits=10, random_state=1, shuffle=True)\n",
    "\n",
    "accs = []\n",
    "for train, test in skf.split(X,y):\n",
    "    x_train, x_test = X[train], X[test]\n",
    "    y_train, y_test = y[train], y[test]\n",
    "    \n",
    "    clf = get_mlp_2(x_train, y_train)\n",
    "    yhat = clf.predict(x_test)\n",
    "    accs.append(accuracy_score(yhat, y_test))\n",
    "    \n",
    "for a in accs:\n",
    "    print(\"Acc:\", a)\n",
    "print(\"Mean:\",np.mean(accs))"
   ]
  },
  {
   "cell_type": "markdown",
   "id": "d7ef3ab5",
   "metadata": {},
   "source": [
    "## Try Model 1 with a PCA "
   ]
  },
  {
   "cell_type": "code",
   "execution_count": 127,
   "id": "26e84c20",
   "metadata": {},
   "outputs": [
    {
     "name": "stdout",
     "output_type": "stream",
     "text": [
      "Validation Acc: 1.0\n",
      "Test Acc: 0.8636363636363636\n",
      "CPU times: user 12.4 s, sys: 1.43 s, total: 13.8 s\n",
      "Wall time: 1.82 s\n"
     ]
    },
    {
     "name": "stderr",
     "output_type": "stream",
     "text": [
      "/Users/nicholaslarsen/opt/anaconda3/envs/mlenv2020/lib/python3.7/site-packages/sklearn/neural_network/_multilayer_perceptron.py:617: ConvergenceWarning: Stochastic Optimizer: Maximum iterations (150) reached and the optimization hasn't converged yet.\n",
      "  % self.max_iter, ConvergenceWarning)\n"
     ]
    }
   ],
   "source": [
    "%%time\n",
    "from sklearn.decomposition import PCA\n",
    "\n",
    "x_train, x_test, y_train, y_test = train_test_split(X, y, test_size=0.2, stratify=y)\n",
    "\n",
    "pca = PCA(n_components=150)\n",
    "pca.fit(x_train)\n",
    "x_pca = pca.transform(x_train)\n",
    "\n",
    "clf = get_mlp_2(x_pca, y_train)\n",
    "\n",
    "x_test_pca = pca.transform(x_test)\n",
    "\n",
    "yhat = clf.predict(x_pca)\n",
    "print('Validation Acc:', accuracy_score(yhat, y_train) )\n",
    "yhat = clf.predict(x_test_pca)\n",
    "print('Test Acc:',accuracy_score(yhat,y_test))"
   ]
  },
  {
   "cell_type": "code",
   "execution_count": 138,
   "id": "3b3f542b",
   "metadata": {},
   "outputs": [
    {
     "name": "stderr",
     "output_type": "stream",
     "text": [
      "/Users/nicholaslarsen/opt/anaconda3/envs/mlenv2020/lib/python3.7/site-packages/sklearn/neural_network/_multilayer_perceptron.py:617: ConvergenceWarning: Stochastic Optimizer: Maximum iterations (150) reached and the optimization hasn't converged yet.\n",
      "  % self.max_iter, ConvergenceWarning)\n",
      "/Users/nicholaslarsen/opt/anaconda3/envs/mlenv2020/lib/python3.7/site-packages/sklearn/neural_network/_multilayer_perceptron.py:617: ConvergenceWarning: Stochastic Optimizer: Maximum iterations (150) reached and the optimization hasn't converged yet.\n",
      "  % self.max_iter, ConvergenceWarning)\n",
      "/Users/nicholaslarsen/opt/anaconda3/envs/mlenv2020/lib/python3.7/site-packages/sklearn/neural_network/_multilayer_perceptron.py:617: ConvergenceWarning: Stochastic Optimizer: Maximum iterations (150) reached and the optimization hasn't converged yet.\n",
      "  % self.max_iter, ConvergenceWarning)\n",
      "/Users/nicholaslarsen/opt/anaconda3/envs/mlenv2020/lib/python3.7/site-packages/sklearn/neural_network/_multilayer_perceptron.py:617: ConvergenceWarning: Stochastic Optimizer: Maximum iterations (150) reached and the optimization hasn't converged yet.\n",
      "  % self.max_iter, ConvergenceWarning)\n",
      "/Users/nicholaslarsen/opt/anaconda3/envs/mlenv2020/lib/python3.7/site-packages/sklearn/neural_network/_multilayer_perceptron.py:617: ConvergenceWarning: Stochastic Optimizer: Maximum iterations (150) reached and the optimization hasn't converged yet.\n",
      "  % self.max_iter, ConvergenceWarning)\n",
      "/Users/nicholaslarsen/opt/anaconda3/envs/mlenv2020/lib/python3.7/site-packages/sklearn/neural_network/_multilayer_perceptron.py:617: ConvergenceWarning: Stochastic Optimizer: Maximum iterations (150) reached and the optimization hasn't converged yet.\n",
      "  % self.max_iter, ConvergenceWarning)\n",
      "/Users/nicholaslarsen/opt/anaconda3/envs/mlenv2020/lib/python3.7/site-packages/sklearn/neural_network/_multilayer_perceptron.py:617: ConvergenceWarning: Stochastic Optimizer: Maximum iterations (150) reached and the optimization hasn't converged yet.\n",
      "  % self.max_iter, ConvergenceWarning)\n",
      "/Users/nicholaslarsen/opt/anaconda3/envs/mlenv2020/lib/python3.7/site-packages/sklearn/neural_network/_multilayer_perceptron.py:617: ConvergenceWarning: Stochastic Optimizer: Maximum iterations (150) reached and the optimization hasn't converged yet.\n",
      "  % self.max_iter, ConvergenceWarning)\n",
      "/Users/nicholaslarsen/opt/anaconda3/envs/mlenv2020/lib/python3.7/site-packages/sklearn/neural_network/_multilayer_perceptron.py:617: ConvergenceWarning: Stochastic Optimizer: Maximum iterations (150) reached and the optimization hasn't converged yet.\n",
      "  % self.max_iter, ConvergenceWarning)\n"
     ]
    },
    {
     "name": "stdout",
     "output_type": "stream",
     "text": [
      "Acc: 0.8663101604278075\n",
      "Acc: 0.8770053475935828\n",
      "Acc: 0.9144385026737968\n",
      "Acc: 0.8556149732620321\n",
      "Acc: 0.9144385026737968\n",
      "Acc: 0.8716577540106952\n",
      "Acc: 0.8924731182795699\n",
      "Acc: 0.8655913978494624\n",
      "Acc: 0.8817204301075269\n",
      "Acc: 0.8924731182795699\n",
      "Mean: 0.8831723305157839\n",
      "CPU times: user 2min 18s, sys: 16.7 s, total: 2min 35s\n",
      "Wall time: 20.6 s\n"
     ]
    },
    {
     "name": "stderr",
     "output_type": "stream",
     "text": [
      "/Users/nicholaslarsen/opt/anaconda3/envs/mlenv2020/lib/python3.7/site-packages/sklearn/neural_network/_multilayer_perceptron.py:617: ConvergenceWarning: Stochastic Optimizer: Maximum iterations (150) reached and the optimization hasn't converged yet.\n",
      "  % self.max_iter, ConvergenceWarning)\n"
     ]
    }
   ],
   "source": [
    "%%time\n",
    "skf = StratifiedKFold(n_splits=10, random_state=1, shuffle=True)\n",
    "\n",
    "accs = []\n",
    "for train, test in skf.split(X,y):\n",
    "    x_train, x_test = X[train], X[test]\n",
    "    y_train, y_test = y[train], y[test]\n",
    "    \n",
    "    pca = PCA(n_components=150)\n",
    "    pca.fit(x_train)\n",
    "    x_train_pca = pca.transform(x_train)\n",
    "    \n",
    "    clf = get_mlp_2(x_train_pca, y_train, ephocs=150)\n",
    "    \n",
    "    x_test_pca = pca.transform(x_test)\n",
    "    \n",
    "    yhat = clf.predict(x_test_pca)\n",
    "    \n",
    "    accs.append(accuracy_score(yhat, y_test))\n",
    "    \n",
    "for a in accs:\n",
    "    print(\"Acc:\", a)\n",
    "print(\"Mean:\",np.mean(accs))"
   ]
  },
  {
   "cell_type": "markdown",
   "id": "e3655924",
   "metadata": {},
   "source": [
    "## Train a model to save with CoreML"
   ]
  },
  {
   "cell_type": "code",
   "execution_count": 165,
   "id": "6ec2b4fe",
   "metadata": {},
   "outputs": [
    {
     "name": "stderr",
     "output_type": "stream",
     "text": [
      "WARNING:root:TensorFlow version 2.0.0 detected. Last version known to be fully compatible is 1.14.0 .\n"
     ]
    }
   ],
   "source": [
    "import coremltools"
   ]
  },
  {
   "cell_type": "code",
   "execution_count": 169,
   "id": "310a82a4",
   "metadata": {},
   "outputs": [
    {
     "name": "stdout",
     "output_type": "stream",
     "text": [
      "valid acc: 1.0\n",
      "test Acc: 0.8983957219251337\n",
      "CPU times: user 14.3 s, sys: 1.64 s, total: 16 s\n",
      "Wall time: 2.12 s\n"
     ]
    },
    {
     "name": "stderr",
     "output_type": "stream",
     "text": [
      "/Users/nicholaslarsen/opt/anaconda3/envs/mlenv2020/lib/python3.7/site-packages/sklearn/neural_network/_multilayer_perceptron.py:617: ConvergenceWarning: Stochastic Optimizer: Maximum iterations (150) reached and the optimization hasn't converged yet.\n",
      "  % self.max_iter, ConvergenceWarning)\n"
     ]
    }
   ],
   "source": [
    "%%time\n",
    "x_train, x_test, y_train, y_test = train_test_split(X, y, test_size=0.2, stratify=y)\n",
    "clf = get_mlp_2(x_train, y_train)\n",
    "yhat = clf.predict(x_train)\n",
    "print('valid acc:', accuracy_score(yhat, y_train))\n",
    "yhat = clf.predict(x_test)\n",
    "print('test Acc:',accuracy_score(yhat,y_test))"
   ]
  },
  {
   "cell_type": "code",
   "execution_count": null,
   "id": "e9186257",
   "metadata": {},
   "outputs": [],
   "source": [
    "coreml_model = coremltools.converters.sklearn.convert(clf,\n",
    "                                                     [ i for i in range(0,300)],\n",
    "                                                     \"rotation\")"
   ]
  },
  {
   "cell_type": "code",
   "execution_count": 181,
   "id": "144784ae",
   "metadata": {},
   "outputs": [],
   "source": [
    "from sklearn.linear_model import LinearRegression"
   ]
  },
  {
   "cell_type": "code",
   "execution_count": 182,
   "id": "7e0575dc",
   "metadata": {},
   "outputs": [],
   "source": [
    "model = LinearRegression()"
   ]
  },
  {
   "cell_type": "code",
   "execution_count": 183,
   "id": "c6d845ce",
   "metadata": {},
   "outputs": [
    {
     "data": {
      "text/plain": [
       "LinearRegression()"
      ]
     },
     "execution_count": 183,
     "metadata": {},
     "output_type": "execute_result"
    }
   ],
   "source": [
    "model.fit(X, y)"
   ]
  },
  {
   "cell_type": "code",
   "execution_count": 188,
   "id": "745581b1",
   "metadata": {},
   "outputs": [
    {
     "name": "stdout",
     "output_type": "stream",
     "text": [
      "valid acc: 0.1345123258306538\n"
     ]
    }
   ],
   "source": [
    "yhat = [round(y_i) for y_i in model.predict(X)]\n",
    "print('valid acc:', accuracy_score(yhat, y))"
   ]
  },
  {
   "cell_type": "code",
   "execution_count": 186,
   "id": "bf4499bc",
   "metadata": {},
   "outputs": [
    {
     "data": {
      "text/plain": [
       "array([ 4.73912917, -1.08712252, -0.959817  , ...,  6.68452897,\n",
       "        5.10036997, 10.00287016])"
      ]
     },
     "execution_count": 186,
     "metadata": {},
     "output_type": "execute_result"
    }
   ],
   "source": [
    "yhat"
   ]
  },
  {
   "cell_type": "code",
   "execution_count": 187,
   "id": "56c6557a",
   "metadata": {},
   "outputs": [
    {
     "data": {
      "text/plain": [
       "5"
      ]
     },
     "execution_count": 187,
     "metadata": {},
     "output_type": "execute_result"
    }
   ],
   "source": [
    "round(4.7)"
   ]
  },
  {
   "cell_type": "code",
   "execution_count": 189,
   "id": "8aaed8df",
   "metadata": {},
   "outputs": [
    {
     "ename": "ImportError",
     "evalue": "cannot import name 'Imputer' from 'sklearn.preprocessing' (/Users/nicholaslarsen/opt/anaconda3/envs/mlenv2020/lib/python3.7/site-packages/sklearn/preprocessing/__init__.py)",
     "output_type": "error",
     "traceback": [
      "\u001b[0;31m---------------------------------------------------------------------------\u001b[0m",
      "\u001b[0;31mImportError\u001b[0m                               Traceback (most recent call last)",
      "\u001b[0;32m/var/folders/yx/th_lc0l914x28tr6m8787fnr0000gn/T/ipykernel_10018/2150527426.py\u001b[0m in \u001b[0;36m<module>\u001b[0;34m\u001b[0m\n\u001b[0;32m----> 1\u001b[0;31m \u001b[0mcoreml_model\u001b[0m \u001b[0;34m=\u001b[0m \u001b[0mcoremltools\u001b[0m\u001b[0;34m.\u001b[0m\u001b[0mconverters\u001b[0m\u001b[0;34m.\u001b[0m\u001b[0msklearn\u001b[0m\u001b[0;34m.\u001b[0m\u001b[0mconvert\u001b[0m\u001b[0;34m(\u001b[0m\u001b[0mmodel\u001b[0m\u001b[0;34m)\u001b[0m\u001b[0;34m\u001b[0m\u001b[0;34m\u001b[0m\u001b[0m\n\u001b[0m",
      "\u001b[0;32m~/opt/anaconda3/envs/mlenv2020/lib/python3.7/site-packages/coremltools/converters/sklearn/_converter.py\u001b[0m in \u001b[0;36mconvert\u001b[0;34m(sk_obj, input_features, output_feature_names)\u001b[0m\n\u001b[1;32m    143\u001b[0m     \u001b[0;31m# several issues with the ordering of the classes are worked out.  For now,\u001b[0m\u001b[0;34m\u001b[0m\u001b[0;34m\u001b[0m\u001b[0;34m\u001b[0m\u001b[0m\n\u001b[1;32m    144\u001b[0m     \u001b[0;31m# to use custom class labels, directly import the internal function below.\u001b[0m\u001b[0;34m\u001b[0m\u001b[0;34m\u001b[0m\u001b[0;34m\u001b[0m\u001b[0m\n\u001b[0;32m--> 145\u001b[0;31m     \u001b[0;32mfrom\u001b[0m \u001b[0;34m.\u001b[0m\u001b[0m_converter_internal\u001b[0m \u001b[0;32mimport\u001b[0m \u001b[0m_convert_sklearn_model\u001b[0m\u001b[0;34m\u001b[0m\u001b[0;34m\u001b[0m\u001b[0m\n\u001b[0m\u001b[1;32m    146\u001b[0m     spec = _convert_sklearn_model(\n\u001b[1;32m    147\u001b[0m             sk_obj, input_features, output_feature_names, class_labels = None)\n",
      "\u001b[0;32m~/opt/anaconda3/envs/mlenv2020/lib/python3.7/site-packages/coremltools/converters/sklearn/_converter_internal.py\u001b[0m in \u001b[0;36m<module>\u001b[0;34m\u001b[0m\n\u001b[1;32m     40\u001b[0m \u001b[0;32mfrom\u001b[0m \u001b[0;34m.\u001b[0m \u001b[0;32mimport\u001b[0m \u001b[0m_logistic_regression\u001b[0m\u001b[0;34m\u001b[0m\u001b[0;34m\u001b[0m\u001b[0m\n\u001b[1;32m     41\u001b[0m \u001b[0;32mfrom\u001b[0m \u001b[0;34m.\u001b[0m \u001b[0;32mimport\u001b[0m \u001b[0m_normalizer\u001b[0m\u001b[0;34m\u001b[0m\u001b[0;34m\u001b[0m\u001b[0m\n\u001b[0;32m---> 42\u001b[0;31m \u001b[0;32mfrom\u001b[0m \u001b[0;34m.\u001b[0m \u001b[0;32mimport\u001b[0m \u001b[0m_imputer\u001b[0m\u001b[0;34m\u001b[0m\u001b[0;34m\u001b[0m\u001b[0m\n\u001b[0m\u001b[1;32m     43\u001b[0m \u001b[0;32mfrom\u001b[0m \u001b[0;34m.\u001b[0m \u001b[0;32mimport\u001b[0m \u001b[0m_random_forest_classifier\u001b[0m\u001b[0;34m\u001b[0m\u001b[0;34m\u001b[0m\u001b[0m\n\u001b[1;32m     44\u001b[0m \u001b[0;32mfrom\u001b[0m \u001b[0;34m.\u001b[0m \u001b[0;32mimport\u001b[0m \u001b[0m_random_forest_regressor\u001b[0m\u001b[0;34m\u001b[0m\u001b[0;34m\u001b[0m\u001b[0m\n",
      "\u001b[0;32m~/opt/anaconda3/envs/mlenv2020/lib/python3.7/site-packages/coremltools/converters/sklearn/_imputer.py\u001b[0m in \u001b[0;36m<module>\u001b[0;34m\u001b[0m\n\u001b[1;32m     15\u001b[0m \u001b[0;32mif\u001b[0m \u001b[0m_HAS_SKLEARN\u001b[0m\u001b[0;34m:\u001b[0m\u001b[0;34m\u001b[0m\u001b[0;34m\u001b[0m\u001b[0m\n\u001b[1;32m     16\u001b[0m     \u001b[0;32mimport\u001b[0m \u001b[0msklearn\u001b[0m\u001b[0;34m\u001b[0m\u001b[0;34m\u001b[0m\u001b[0m\n\u001b[0;32m---> 17\u001b[0;31m     \u001b[0;32mfrom\u001b[0m \u001b[0msklearn\u001b[0m\u001b[0;34m.\u001b[0m\u001b[0mpreprocessing\u001b[0m \u001b[0;32mimport\u001b[0m \u001b[0mImputer\u001b[0m\u001b[0;34m\u001b[0m\u001b[0;34m\u001b[0m\u001b[0m\n\u001b[0m\u001b[1;32m     18\u001b[0m     \u001b[0mmodel_type\u001b[0m \u001b[0;34m=\u001b[0m \u001b[0;34m'transformer'\u001b[0m\u001b[0;34m\u001b[0m\u001b[0;34m\u001b[0m\u001b[0m\n\u001b[1;32m     19\u001b[0m     \u001b[0msklearn_class\u001b[0m \u001b[0;34m=\u001b[0m \u001b[0msklearn\u001b[0m\u001b[0;34m.\u001b[0m\u001b[0mpreprocessing\u001b[0m\u001b[0;34m.\u001b[0m\u001b[0mImputer\u001b[0m\u001b[0;34m\u001b[0m\u001b[0;34m\u001b[0m\u001b[0m\n",
      "\u001b[0;31mImportError\u001b[0m: cannot import name 'Imputer' from 'sklearn.preprocessing' (/Users/nicholaslarsen/opt/anaconda3/envs/mlenv2020/lib/python3.7/site-packages/sklearn/preprocessing/__init__.py)"
     ]
    }
   ],
   "source": [
    "coreml_model = coremltools.converters.sklearn.convert(model)"
   ]
  },
  {
   "cell_type": "code",
   "execution_count": null,
   "id": "f39e1ee4",
   "metadata": {},
   "outputs": [],
   "source": []
  }
 ],
 "metadata": {
  "kernelspec": {
   "display_name": "Python 3 (ipykernel)",
   "language": "python",
   "name": "python3"
  },
  "language_info": {
   "codemirror_mode": {
    "name": "ipython",
    "version": 3
   },
   "file_extension": ".py",
   "mimetype": "text/x-python",
   "name": "python",
   "nbconvert_exporter": "python",
   "pygments_lexer": "ipython3",
   "version": "3.7.11"
  }
 },
 "nbformat": 4,
 "nbformat_minor": 5
}
