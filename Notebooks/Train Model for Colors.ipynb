{
 "cells": [
  {
   "cell_type": "code",
   "execution_count": 104,
   "id": "cb2a13bf",
   "metadata": {},
   "outputs": [],
   "source": [
    "import turicreate as tc\n",
    "import numpy as np"
   ]
  },
  {
   "cell_type": "code",
   "execution_count": 105,
   "id": "b3b59b9e",
   "metadata": {},
   "outputs": [
    {
     "data": {
      "text/plain": [
       "'6.4.1'"
      ]
     },
     "execution_count": 105,
     "metadata": {},
     "output_type": "execute_result"
    }
   ],
   "source": [
    "tc.__version__"
   ]
  },
  {
   "cell_type": "code",
   "execution_count": 106,
   "id": "c0108d76",
   "metadata": {},
   "outputs": [],
   "source": [
    "from pymongo import MongoClient"
   ]
  },
  {
   "cell_type": "code",
   "execution_count": null,
   "id": "11007147",
   "metadata": {},
   "outputs": [],
   "source": []
  },
  {
   "cell_type": "code",
   "execution_count": 107,
   "id": "aeb9cfd0",
   "metadata": {},
   "outputs": [],
   "source": [
    "client = MongoClient(serverSelectionTimeoutMS=50)\n",
    "db = client.turidatabase"
   ]
  },
  {
   "cell_type": "code",
   "execution_count": 108,
   "id": "c17a1123",
   "metadata": {},
   "outputs": [
    {
     "data": {
      "text/plain": [
       "<pymongo.cursor.Cursor at 0x7f875ba50ad0>"
      ]
     },
     "execution_count": 108,
     "metadata": {},
     "output_type": "execute_result"
    }
   ],
   "source": [
    "db.labeledinstances.find({'dsid': 5})"
   ]
  },
  {
   "cell_type": "code",
   "execution_count": 109,
   "id": "77d66e84",
   "metadata": {},
   "outputs": [
    {
     "data": {
      "text/plain": [
       "Database(MongoClient(host=['localhost:27017'], document_class=dict, tz_aware=False, connect=True, serverselectiontimeoutms=50), 'turidatabase')"
      ]
     },
     "execution_count": 109,
     "metadata": {},
     "output_type": "execute_result"
    }
   ],
   "source": [
    "db"
   ]
  },
  {
   "cell_type": "code",
   "execution_count": 110,
   "id": "25f119f5",
   "metadata": {},
   "outputs": [],
   "source": [
    "def get_dataset_data(dsid):\n",
    "    features = []\n",
    "    labels = []\n",
    "    \n",
    "    for a in db.labeledinstances.find({\"dsid\": dsid}):\n",
    "        features.append([float(val) for val in a['feature']])\n",
    "        labels.append(a['label'])\n",
    "    data = {'target': labels, 'sequence':np.array(features)}\n",
    "    \n",
    "    return data\n",
    "\n",
    "\n",
    "def get_dataset_sframe(dsid):\n",
    "    data = get_dataset_data(dsid)\n",
    "    return tc.SFrame(data=data)\n"
   ]
  },
  {
   "cell_type": "code",
   "execution_count": 111,
   "id": "f7d7e391",
   "metadata": {},
   "outputs": [
    {
     "data": {
      "text/html": [
       "<pre>Finished parsing file /Users/nicholaslarsen/Documents/7323 Projects/LearnedRubiks/Notebooks/capture-mathod-flash-on.csv</pre>"
      ],
      "text/plain": [
       "Finished parsing file /Users/nicholaslarsen/Documents/7323 Projects/LearnedRubiks/Notebooks/capture-mathod-flash-on.csv"
      ]
     },
     "metadata": {},
     "output_type": "display_data"
    },
    {
     "data": {
      "text/html": [
       "<pre>Parsing completed. Parsed 100 lines in 0.032362 secs.</pre>"
      ],
      "text/plain": [
       "Parsing completed. Parsed 100 lines in 0.032362 secs."
      ]
     },
     "metadata": {},
     "output_type": "display_data"
    },
    {
     "name": "stdout",
     "output_type": "stream",
     "text": [
      "------------------------------------------------------\n",
      "Inferred types from first 100 line(s) of file as \n",
      "column_type_hints=[float,float,float,str]\n",
      "If parsing fails due to incorrect types, you can correct\n",
      "the inferred type list above and pass it to read_csv in\n",
      "the column_type_hints argument\n",
      "------------------------------------------------------\n"
     ]
    },
    {
     "data": {
      "text/html": [
       "<pre>Finished parsing file /Users/nicholaslarsen/Documents/7323 Projects/LearnedRubiks/Notebooks/capture-mathod-flash-on.csv</pre>"
      ],
      "text/plain": [
       "Finished parsing file /Users/nicholaslarsen/Documents/7323 Projects/LearnedRubiks/Notebooks/capture-mathod-flash-on.csv"
      ]
     },
     "metadata": {},
     "output_type": "display_data"
    },
    {
     "data": {
      "text/html": [
       "<pre>Parsing completed. Parsed 406 lines in 0.004015 secs.</pre>"
      ],
      "text/plain": [
       "Parsing completed. Parsed 406 lines in 0.004015 secs."
      ]
     },
     "metadata": {},
     "output_type": "display_data"
    }
   ],
   "source": [
    "sframe_colors = tc.SFrame.read_csv('./capture-mathod-flash-on.csv')"
   ]
  },
  {
   "cell_type": "code",
   "execution_count": 112,
   "id": "777cba1c",
   "metadata": {},
   "outputs": [
    {
     "data": {
      "text/html": [
       "<div style=\"max-height:1000px;max-width:1500px;overflow:auto;\"><table frame=\"box\" rules=\"cols\">\n",
       "    <tr>\n",
       "        <th style=\"padding-left: 1em; padding-right: 1em; text-align: center\">red</th>\n",
       "        <th style=\"padding-left: 1em; padding-right: 1em; text-align: center\">green</th>\n",
       "        <th style=\"padding-left: 1em; padding-right: 1em; text-align: center\">blue</th>\n",
       "        <th style=\"padding-left: 1em; padding-right: 1em; text-align: center\">target</th>\n",
       "    </tr>\n",
       "    <tr>\n",
       "        <td style=\"padding-left: 1em; padding-right: 1em; text-align: center; vertical-align: top\">226.24744897959184</td>\n",
       "        <td style=\"padding-left: 1em; padding-right: 1em; text-align: center; vertical-align: top\">202.7944606413994</td>\n",
       "        <td style=\"padding-left: 1em; padding-right: 1em; text-align: center; vertical-align: top\">181.40962099125363</td>\n",
       "        <td style=\"padding-left: 1em; padding-right: 1em; text-align: center; vertical-align: top\">white</td>\n",
       "    </tr>\n",
       "    <tr>\n",
       "        <td style=\"padding-left: 1em; padding-right: 1em; text-align: center; vertical-align: top\">160.03279883381924</td>\n",
       "        <td style=\"padding-left: 1em; padding-right: 1em; text-align: center; vertical-align: top\">9.325801749271136</td>\n",
       "        <td style=\"padding-left: 1em; padding-right: 1em; text-align: center; vertical-align: top\">12.466107871720116</td>\n",
       "        <td style=\"padding-left: 1em; padding-right: 1em; text-align: center; vertical-align: top\">red</td>\n",
       "    </tr>\n",
       "    <tr>\n",
       "        <td style=\"padding-left: 1em; padding-right: 1em; text-align: center; vertical-align: top\">220.64395043731776</td>\n",
       "        <td style=\"padding-left: 1em; padding-right: 1em; text-align: center; vertical-align: top\">199.8338192419825</td>\n",
       "        <td style=\"padding-left: 1em; padding-right: 1em; text-align: center; vertical-align: top\">176.76384839650146</td>\n",
       "        <td style=\"padding-left: 1em; padding-right: 1em; text-align: center; vertical-align: top\">white</td>\n",
       "    </tr>\n",
       "    <tr>\n",
       "        <td style=\"padding-left: 1em; padding-right: 1em; text-align: center; vertical-align: top\">241.21137026239063</td>\n",
       "        <td style=\"padding-left: 1em; padding-right: 1em; text-align: center; vertical-align: top\">103.66180758017492</td>\n",
       "        <td style=\"padding-left: 1em; padding-right: 1em; text-align: center; vertical-align: top\">29.419460641399414</td>\n",
       "        <td style=\"padding-left: 1em; padding-right: 1em; text-align: center; vertical-align: top\">orange</td>\n",
       "    </tr>\n",
       "    <tr>\n",
       "        <td style=\"padding-left: 1em; padding-right: 1em; text-align: center; vertical-align: top\">71.08491253644314</td>\n",
       "        <td style=\"padding-left: 1em; padding-right: 1em; text-align: center; vertical-align: top\">151.94460641399417</td>\n",
       "        <td style=\"padding-left: 1em; padding-right: 1em; text-align: center; vertical-align: top\">60.61807580174927</td>\n",
       "        <td style=\"padding-left: 1em; padding-right: 1em; text-align: center; vertical-align: top\">green</td>\n",
       "    </tr>\n",
       "    <tr>\n",
       "        <td style=\"padding-left: 1em; padding-right: 1em; text-align: center; vertical-align: top\">196.34365889212827</td>\n",
       "        <td style=\"padding-left: 1em; padding-right: 1em; text-align: center; vertical-align: top\">179.62208454810497</td>\n",
       "        <td style=\"padding-left: 1em; padding-right: 1em; text-align: center; vertical-align: top\">162.02004373177843</td>\n",
       "        <td style=\"padding-left: 1em; padding-right: 1em; text-align: center; vertical-align: top\">white</td>\n",
       "    </tr>\n",
       "    <tr>\n",
       "        <td style=\"padding-left: 1em; padding-right: 1em; text-align: center; vertical-align: top\">195.65524781341108</td>\n",
       "        <td style=\"padding-left: 1em; padding-right: 1em; text-align: center; vertical-align: top\">181.6865889212828</td>\n",
       "        <td style=\"padding-left: 1em; padding-right: 1em; text-align: center; vertical-align: top\">166.10204081632654</td>\n",
       "        <td style=\"padding-left: 1em; padding-right: 1em; text-align: center; vertical-align: top\">white</td>\n",
       "    </tr>\n",
       "    <tr>\n",
       "        <td style=\"padding-left: 1em; padding-right: 1em; text-align: center; vertical-align: top\">197.48943148688048</td>\n",
       "        <td style=\"padding-left: 1em; padding-right: 1em; text-align: center; vertical-align: top\">70.49781341107871</td>\n",
       "        <td style=\"padding-left: 1em; padding-right: 1em; text-align: center; vertical-align: top\">6.662900874635568</td>\n",
       "        <td style=\"padding-left: 1em; padding-right: 1em; text-align: center; vertical-align: top\">orange</td>\n",
       "    </tr>\n",
       "    <tr>\n",
       "        <td style=\"padding-left: 1em; padding-right: 1em; text-align: center; vertical-align: top\">208.2084548104956</td>\n",
       "        <td style=\"padding-left: 1em; padding-right: 1em; text-align: center; vertical-align: top\">91.54227405247812</td>\n",
       "        <td style=\"padding-left: 1em; padding-right: 1em; text-align: center; vertical-align: top\">18.651967930029155</td>\n",
       "        <td style=\"padding-left: 1em; padding-right: 1em; text-align: center; vertical-align: top\">orange</td>\n",
       "    </tr>\n",
       "    <tr>\n",
       "        <td style=\"padding-left: 1em; padding-right: 1em; text-align: center; vertical-align: top\">160.70845481049562</td>\n",
       "        <td style=\"padding-left: 1em; padding-right: 1em; text-align: center; vertical-align: top\">22.25546647230321</td>\n",
       "        <td style=\"padding-left: 1em; padding-right: 1em; text-align: center; vertical-align: top\">20.51639941690962</td>\n",
       "        <td style=\"padding-left: 1em; padding-right: 1em; text-align: center; vertical-align: top\">red</td>\n",
       "    </tr>\n",
       "</table>\n",
       "[406 rows x 4 columns]<br/>Note: Only the head of the SFrame is printed.<br/>You can use print_rows(num_rows=m, num_columns=n) to print more rows and columns.\n",
       "</div>"
      ],
      "text/plain": [
       "Columns:\n",
       "\tred\tfloat\n",
       "\tgreen\tfloat\n",
       "\tblue\tfloat\n",
       "\ttarget\tstr\n",
       "\n",
       "Rows: 406\n",
       "\n",
       "Data:\n",
       "+--------------------+--------------------+--------------------+--------+\n",
       "|        red         |       green        |        blue        | target |\n",
       "+--------------------+--------------------+--------------------+--------+\n",
       "| 226.24744897959184 | 202.7944606413994  | 181.40962099125363 | white  |\n",
       "| 160.03279883381924 | 9.325801749271136  | 12.466107871720116 |  red   |\n",
       "| 220.64395043731776 | 199.8338192419825  | 176.76384839650146 | white  |\n",
       "| 241.21137026239063 | 103.66180758017492 | 29.419460641399414 | orange |\n",
       "| 71.08491253644314  | 151.94460641399417 | 60.61807580174927  | green  |\n",
       "| 196.34365889212827 | 179.62208454810497 | 162.02004373177843 | white  |\n",
       "| 195.65524781341108 | 181.6865889212828  | 166.10204081632654 | white  |\n",
       "| 197.48943148688048 | 70.49781341107871  | 6.662900874635568  | orange |\n",
       "| 208.2084548104956  | 91.54227405247812  | 18.651967930029155 | orange |\n",
       "| 160.70845481049562 | 22.25546647230321  | 20.51639941690962  |  red   |\n",
       "+--------------------+--------------------+--------------------+--------+\n",
       "[406 rows x 4 columns]\n",
       "Note: Only the head of the SFrame is printed.\n",
       "You can use print_rows(num_rows=m, num_columns=n) to print more rows and columns."
      ]
     },
     "execution_count": 112,
     "metadata": {},
     "output_type": "execute_result"
    }
   ],
   "source": [
    "sframe_colors"
   ]
  },
  {
   "cell_type": "code",
   "execution_count": 113,
   "id": "1bba1927",
   "metadata": {},
   "outputs": [
    {
     "data": {
      "text/html": [
       "<div style=\"max-height:1000px;max-width:1500px;overflow:auto;\"><table frame=\"box\" rules=\"cols\">\n",
       "    <tr>\n",
       "        <th style=\"padding-left: 1em; padding-right: 1em; text-align: center\">target</th>\n",
       "        <th style=\"padding-left: 1em; padding-right: 1em; text-align: center\">count</th>\n",
       "    </tr>\n",
       "    <tr>\n",
       "        <td style=\"padding-left: 1em; padding-right: 1em; text-align: center; vertical-align: top\">green</td>\n",
       "        <td style=\"padding-left: 1em; padding-right: 1em; text-align: center; vertical-align: top\">66</td>\n",
       "    </tr>\n",
       "    <tr>\n",
       "        <td style=\"padding-left: 1em; padding-right: 1em; text-align: center; vertical-align: top\">orange</td>\n",
       "        <td style=\"padding-left: 1em; padding-right: 1em; text-align: center; vertical-align: top\">71</td>\n",
       "    </tr>\n",
       "    <tr>\n",
       "        <td style=\"padding-left: 1em; padding-right: 1em; text-align: center; vertical-align: top\">blue</td>\n",
       "        <td style=\"padding-left: 1em; padding-right: 1em; text-align: center; vertical-align: top\">65</td>\n",
       "    </tr>\n",
       "    <tr>\n",
       "        <td style=\"padding-left: 1em; padding-right: 1em; text-align: center; vertical-align: top\">yellow</td>\n",
       "        <td style=\"padding-left: 1em; padding-right: 1em; text-align: center; vertical-align: top\">70</td>\n",
       "    </tr>\n",
       "    <tr>\n",
       "        <td style=\"padding-left: 1em; padding-right: 1em; text-align: center; vertical-align: top\">red</td>\n",
       "        <td style=\"padding-left: 1em; padding-right: 1em; text-align: center; vertical-align: top\">69</td>\n",
       "    </tr>\n",
       "    <tr>\n",
       "        <td style=\"padding-left: 1em; padding-right: 1em; text-align: center; vertical-align: top\">white</td>\n",
       "        <td style=\"padding-left: 1em; padding-right: 1em; text-align: center; vertical-align: top\">65</td>\n",
       "    </tr>\n",
       "</table>\n",
       "[6 rows x 2 columns]<br/>\n",
       "</div>"
      ],
      "text/plain": [
       "Columns:\n",
       "\ttarget\tstr\n",
       "\tcount\tint\n",
       "\n",
       "Rows: 6\n",
       "\n",
       "Data:\n",
       "+--------+-------+\n",
       "| target | count |\n",
       "+--------+-------+\n",
       "| green  |   66  |\n",
       "| orange |   71  |\n",
       "|  blue  |   65  |\n",
       "| yellow |   70  |\n",
       "|  red   |   69  |\n",
       "| white  |   65  |\n",
       "+--------+-------+\n",
       "[6 rows x 2 columns]"
      ]
     },
     "execution_count": 113,
     "metadata": {},
     "output_type": "execute_result"
    }
   ],
   "source": [
    " import turicreate.aggregate as agg\n",
    "sframe_colors.groupby('target',operations={'count': agg.COUNT()})"
   ]
  },
  {
   "cell_type": "markdown",
   "id": "ad00a47f",
   "metadata": {},
   "source": [
    "## Create a defualt model"
   ]
  },
  {
   "cell_type": "code",
   "execution_count": 203,
   "id": "a7dbec3a",
   "metadata": {},
   "outputs": [
    {
     "data": {
      "text/html": [
       "<pre>Finished parsing file /Users/nicholaslarsen/Documents/7323 Projects/LearnedRubiks/Notebooks/capture-mathod-flash-on.csv</pre>"
      ],
      "text/plain": [
       "Finished parsing file /Users/nicholaslarsen/Documents/7323 Projects/LearnedRubiks/Notebooks/capture-mathod-flash-on.csv"
      ]
     },
     "metadata": {},
     "output_type": "display_data"
    },
    {
     "data": {
      "text/html": [
       "<pre>Parsing completed. Parsed 100 lines in 0.047579 secs.</pre>"
      ],
      "text/plain": [
       "Parsing completed. Parsed 100 lines in 0.047579 secs."
      ]
     },
     "metadata": {},
     "output_type": "display_data"
    },
    {
     "name": "stdout",
     "output_type": "stream",
     "text": [
      "------------------------------------------------------\n",
      "Inferred types from first 100 line(s) of file as \n",
      "column_type_hints=[float,float,float,str]\n",
      "If parsing fails due to incorrect types, you can correct\n",
      "the inferred type list above and pass it to read_csv in\n",
      "the column_type_hints argument\n",
      "------------------------------------------------------\n"
     ]
    },
    {
     "data": {
      "text/html": [
       "<pre>Finished parsing file /Users/nicholaslarsen/Documents/7323 Projects/LearnedRubiks/Notebooks/capture-mathod-flash-on.csv</pre>"
      ],
      "text/plain": [
       "Finished parsing file /Users/nicholaslarsen/Documents/7323 Projects/LearnedRubiks/Notebooks/capture-mathod-flash-on.csv"
      ]
     },
     "metadata": {},
     "output_type": "display_data"
    },
    {
     "data": {
      "text/html": [
       "<pre>Parsing completed. Parsed 694 lines in 0.004669 secs.</pre>"
      ],
      "text/plain": [
       "Parsing completed. Parsed 694 lines in 0.004669 secs."
      ]
     },
     "metadata": {},
     "output_type": "display_data"
    },
    {
     "name": "stdout",
     "output_type": "stream",
     "text": [
      "Acc: 0.9727891156462585\n"
     ]
    }
   ],
   "source": [
    "sframe_colors = tc.SFrame.read_csv('./capture-mathod-flash-on.csv')\n",
    "data_train, data_test = sframe_colors.random_split(0.8)\n",
    "model = tc.classifier.create(data_train, target='target', verbose=False)\n",
    "yhat = model.predict(data_test)\n",
    "acc = sum(yhat == data_test['target'])/ float(len(data_test))\n",
    "print('Acc:', acc)\n",
    "model.export_coreml('./colors.mlmodel')"
   ]
  },
  {
   "cell_type": "code",
   "execution_count": 205,
   "id": "005db48d",
   "metadata": {},
   "outputs": [],
   "source": [
    "data_test['yhat'] = yhat "
   ]
  },
  {
   "cell_type": "code",
   "execution_count": 116,
   "id": "6f7db8f2",
   "metadata": {},
   "outputs": [],
   "source": [
    "x = data_test['target' == 'red']"
   ]
  },
  {
   "cell_type": "code",
   "execution_count": 117,
   "id": "d1a75fdc",
   "metadata": {},
   "outputs": [],
   "source": [
    "sf_filter = data_test[data_test.apply(lambda x: x['yhat'] != x['target'])] "
   ]
  },
  {
   "cell_type": "code",
   "execution_count": 206,
   "id": "e5f854e8",
   "metadata": {},
   "outputs": [
    {
     "data": {
      "text/html": [
       "<div style=\"max-height:1000px;max-width:1500px;overflow:auto;\"><table frame=\"box\" rules=\"cols\">\n",
       "    <tr>\n",
       "        <th style=\"padding-left: 1em; padding-right: 1em; text-align: center\">red</th>\n",
       "        <th style=\"padding-left: 1em; padding-right: 1em; text-align: center\">green</th>\n",
       "        <th style=\"padding-left: 1em; padding-right: 1em; text-align: center\">blue</th>\n",
       "        <th style=\"padding-left: 1em; padding-right: 1em; text-align: center\">target</th>\n",
       "        <th style=\"padding-left: 1em; padding-right: 1em; text-align: center\">yhat</th>\n",
       "    </tr>\n",
       "    <tr>\n",
       "        <td style=\"padding-left: 1em; padding-right: 1em; text-align: center; vertical-align: top\">137.71865889212827</td>\n",
       "        <td style=\"padding-left: 1em; padding-right: 1em; text-align: center; vertical-align: top\">136.42747813411077</td>\n",
       "        <td style=\"padding-left: 1em; padding-right: 1em; text-align: center; vertical-align: top\">21.60131195335277</td>\n",
       "        <td style=\"padding-left: 1em; padding-right: 1em; text-align: center; vertical-align: top\">yellow</td>\n",
       "        <td style=\"padding-left: 1em; padding-right: 1em; text-align: center; vertical-align: top\">red</td>\n",
       "    </tr>\n",
       "    <tr>\n",
       "        <td style=\"padding-left: 1em; padding-right: 1em; text-align: center; vertical-align: top\">208.1793002915452</td>\n",
       "        <td style=\"padding-left: 1em; padding-right: 1em; text-align: center; vertical-align: top\">189.97995626822157</td>\n",
       "        <td style=\"padding-left: 1em; padding-right: 1em; text-align: center; vertical-align: top\">28.68258017492711</td>\n",
       "        <td style=\"padding-left: 1em; padding-right: 1em; text-align: center; vertical-align: top\">yellow</td>\n",
       "        <td style=\"padding-left: 1em; padding-right: 1em; text-align: center; vertical-align: top\">orange</td>\n",
       "    </tr>\n",
       "    <tr>\n",
       "        <td style=\"padding-left: 1em; padding-right: 1em; text-align: center; vertical-align: top\">172.8895772594752</td>\n",
       "        <td style=\"padding-left: 1em; padding-right: 1em; text-align: center; vertical-align: top\">68.11953352769679</td>\n",
       "        <td style=\"padding-left: 1em; padding-right: 1em; text-align: center; vertical-align: top\">15.129737609329446</td>\n",
       "        <td style=\"padding-left: 1em; padding-right: 1em; text-align: center; vertical-align: top\">orange</td>\n",
       "        <td style=\"padding-left: 1em; padding-right: 1em; text-align: center; vertical-align: top\">red</td>\n",
       "    </tr>\n",
       "    <tr>\n",
       "        <td style=\"padding-left: 1em; padding-right: 1em; text-align: center; vertical-align: top\">201.74125364431487</td>\n",
       "        <td style=\"padding-left: 1em; padding-right: 1em; text-align: center; vertical-align: top\">182.951166180758</td>\n",
       "        <td style=\"padding-left: 1em; padding-right: 1em; text-align: center; vertical-align: top\">25.20298833819242</td>\n",
       "        <td style=\"padding-left: 1em; padding-right: 1em; text-align: center; vertical-align: top\">yellow</td>\n",
       "        <td style=\"padding-left: 1em; padding-right: 1em; text-align: center; vertical-align: top\">orange</td>\n",
       "    </tr>\n",
       "</table>\n",
       "[? rows x 5 columns]<br/>Note: Only the head of the SFrame is printed. This SFrame is lazily evaluated.<br/>You can use sf.materialize() to force materialization.\n",
       "</div>"
      ],
      "text/plain": [
       "Columns:\n",
       "\tred\tfloat\n",
       "\tgreen\tfloat\n",
       "\tblue\tfloat\n",
       "\ttarget\tstr\n",
       "\tyhat\tstr\n",
       "\n",
       "Rows: Unknown\n",
       "\n",
       "Data:\n",
       "+--------------------+--------------------+--------------------+--------+--------+\n",
       "|        red         |       green        |        blue        | target |  yhat  |\n",
       "+--------------------+--------------------+--------------------+--------+--------+\n",
       "| 137.71865889212827 | 136.42747813411077 | 21.60131195335277  | yellow |  red   |\n",
       "| 208.1793002915452  | 189.97995626822157 | 28.68258017492711  | yellow | orange |\n",
       "| 172.8895772594752  | 68.11953352769679  | 15.129737609329446 | orange |  red   |\n",
       "| 201.74125364431487 |  182.951166180758  | 25.20298833819242  | yellow | orange |\n",
       "+--------------------+--------------------+--------------------+--------+--------+\n",
       "[? rows x 5 columns]\n",
       "Note: Only the head of the SFrame is printed. This SFrame is lazily evaluated.\n",
       "You can use sf.materialize() to force materialization."
      ]
     },
     "execution_count": 206,
     "metadata": {},
     "output_type": "execute_result"
    }
   ],
   "source": [
    "data_test[data_test['target'] != data_test['yhat']]"
   ]
  },
  {
   "cell_type": "code",
   "execution_count": 119,
   "id": "7b05a883",
   "metadata": {},
   "outputs": [
    {
     "data": {
      "text/html": [
       "<div style=\"max-height:1000px;max-width:1500px;overflow:auto;\"><table frame=\"box\" rules=\"cols\">\n",
       "    <tr>\n",
       "        <th style=\"padding-left: 1em; padding-right: 1em; text-align: center\">red</th>\n",
       "        <th style=\"padding-left: 1em; padding-right: 1em; text-align: center\">green</th>\n",
       "        <th style=\"padding-left: 1em; padding-right: 1em; text-align: center\">blue</th>\n",
       "        <th style=\"padding-left: 1em; padding-right: 1em; text-align: center\">target</th>\n",
       "        <th style=\"padding-left: 1em; padding-right: 1em; text-align: center\">yhat</th>\n",
       "    </tr>\n",
       "    <tr>\n",
       "        <td style=\"padding-left: 1em; padding-right: 1em; text-align: center; vertical-align: top\">46.464650145772595</td>\n",
       "        <td style=\"padding-left: 1em; padding-right: 1em; text-align: center; vertical-align: top\">107.39686588921283</td>\n",
       "        <td style=\"padding-left: 1em; padding-right: 1em; text-align: center; vertical-align: top\">37.91909620991254</td>\n",
       "        <td style=\"padding-left: 1em; padding-right: 1em; text-align: center; vertical-align: top\">green</td>\n",
       "        <td style=\"padding-left: 1em; padding-right: 1em; text-align: center; vertical-align: top\">blue</td>\n",
       "    </tr>\n",
       "    <tr>\n",
       "        <td style=\"padding-left: 1em; padding-right: 1em; text-align: center; vertical-align: top\">148.5783527696793</td>\n",
       "        <td style=\"padding-left: 1em; padding-right: 1em; text-align: center; vertical-align: top\">136.3043002915452</td>\n",
       "        <td style=\"padding-left: 1em; padding-right: 1em; text-align: center; vertical-align: top\">122.82179300291546</td>\n",
       "        <td style=\"padding-left: 1em; padding-right: 1em; text-align: center; vertical-align: top\">white</td>\n",
       "        <td style=\"padding-left: 1em; padding-right: 1em; text-align: center; vertical-align: top\">blue</td>\n",
       "    </tr>\n",
       "</table>\n",
       "[? rows x 5 columns]<br/>Note: Only the head of the SFrame is printed. This SFrame is lazily evaluated.<br/>You can use sf.materialize() to force materialization.\n",
       "</div>"
      ],
      "text/plain": [
       "Columns:\n",
       "\tred\tfloat\n",
       "\tgreen\tfloat\n",
       "\tblue\tfloat\n",
       "\ttarget\tstr\n",
       "\tyhat\tstr\n",
       "\n",
       "Rows: Unknown\n",
       "\n",
       "Data:\n",
       "+--------------------+--------------------+--------------------+--------+------+\n",
       "|        red         |       green        |        blue        | target | yhat |\n",
       "+--------------------+--------------------+--------------------+--------+------+\n",
       "| 46.464650145772595 | 107.39686588921283 | 37.91909620991254  | green  | blue |\n",
       "| 148.5783527696793  | 136.3043002915452  | 122.82179300291546 | white  | blue |\n",
       "+--------------------+--------------------+--------------------+--------+------+\n",
       "[? rows x 5 columns]\n",
       "Note: Only the head of the SFrame is printed. This SFrame is lazily evaluated.\n",
       "You can use sf.materialize() to force materialization."
      ]
     },
     "execution_count": 119,
     "metadata": {},
     "output_type": "execute_result"
    }
   ],
   "source": [
    "sf_filter"
   ]
  },
  {
   "cell_type": "code",
   "execution_count": null,
   "id": "c588c905",
   "metadata": {},
   "outputs": [],
   "source": []
  }
 ],
 "metadata": {
  "kernelspec": {
   "display_name": "Python 3 (ipykernel)",
   "language": "python",
   "name": "python3"
  },
  "language_info": {
   "codemirror_mode": {
    "name": "ipython",
    "version": 3
   },
   "file_extension": ".py",
   "mimetype": "text/x-python",
   "name": "python",
   "nbconvert_exporter": "python",
   "pygments_lexer": "ipython3",
   "version": "3.7.11"
  }
 },
 "nbformat": 4,
 "nbformat_minor": 5
}
