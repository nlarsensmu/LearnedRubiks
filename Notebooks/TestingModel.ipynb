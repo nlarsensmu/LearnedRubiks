{
 "cells": [
  {
   "cell_type": "code",
   "execution_count": 1,
   "id": "cb2a13bf",
   "metadata": {},
   "outputs": [],
   "source": [
    "import turicreate as tc\n",
    "import numpy as np"
   ]
  },
  {
   "cell_type": "code",
   "execution_count": 2,
   "id": "b3b59b9e",
   "metadata": {},
   "outputs": [
    {
     "data": {
      "text/plain": [
       "'6.4.1'"
      ]
     },
     "execution_count": 2,
     "metadata": {},
     "output_type": "execute_result"
    }
   ],
   "source": [
    "tc.__version__"
   ]
  },
  {
   "cell_type": "code",
   "execution_count": 3,
   "id": "c0108d76",
   "metadata": {},
   "outputs": [],
   "source": [
    "from pymongo import MongoClient"
   ]
  },
  {
   "cell_type": "code",
   "execution_count": 4,
   "id": "aeb9cfd0",
   "metadata": {},
   "outputs": [],
   "source": [
    "client = MongoClient(serverSelectionTimeoutMS=50)\n",
    "db = client.turidatabase"
   ]
  },
  {
   "cell_type": "code",
   "execution_count": 5,
   "id": "c17a1123",
   "metadata": {},
   "outputs": [
    {
     "data": {
      "text/plain": [
       "<pymongo.cursor.Cursor at 0x7fc8100c2350>"
      ]
     },
     "execution_count": 5,
     "metadata": {},
     "output_type": "execute_result"
    }
   ],
   "source": [
    "db.labeledinstances.find({'dsid': 4})"
   ]
  },
  {
   "cell_type": "code",
   "execution_count": 6,
   "id": "77d66e84",
   "metadata": {},
   "outputs": [
    {
     "data": {
      "text/plain": [
       "Database(MongoClient(host=['localhost:27017'], document_class=dict, tz_aware=False, connect=True, serverselectiontimeoutms=50), 'turidatabase')"
      ]
     },
     "execution_count": 6,
     "metadata": {},
     "output_type": "execute_result"
    }
   ],
   "source": [
    "db"
   ]
  },
  {
   "cell_type": "code",
   "execution_count": 7,
   "id": "25f119f5",
   "metadata": {},
   "outputs": [],
   "source": [
    "def get_dataset_data(dsid):\n",
    "    features = []\n",
    "    labels = []\n",
    "    \n",
    "    for a in db.labeledinstances.find({\"dsid\": dsid}):\n",
    "        features.append([float(val) for val in a['feature']])\n",
    "        labels.append(a['label'])\n",
    "        +\n",
    "    data = {'target': labels, 'sequence':np.array(features)}\n",
    "    \n",
    "    return data\n",
    "\n",
    "\n",
    "def get_dataset_sframe(dsid):\n",
    "    data = get_dataset_data(dsid)\n",
    "    return tc.SFrame(data=data)\n"
   ]
  },
  {
   "cell_type": "code",
   "execution_count": 8,
   "id": "f7d7e391",
   "metadata": {},
   "outputs": [],
   "source": [
    "dsid_4_sframe = get_dataset_sframe(4)"
   ]
  },
  {
   "cell_type": "markdown",
   "id": "ad00a47f",
   "metadata": {},
   "source": [
    "## Create a defualt model"
   ]
  },
  {
   "cell_type": "code",
   "execution_count": 9,
   "id": "5b486b8e",
   "metadata": {},
   "outputs": [
    {
     "name": "stdout",
     "output_type": "stream",
     "text": [
      "PROGRESS: Creating a validation set from 5 percent of training data. This may take a while.\n",
      "          You can set ``validation_set=None`` to disable validation tracking.\n",
      "\n",
      "PROGRESS: The following methods are available for this type of problem.\n",
      "PROGRESS: BoostedTreesClassifier, RandomForestClassifier, DecisionTreeClassifier, LogisticClassifier\n",
      "PROGRESS: The returned model will be chosen according to validation accuracy.\n"
     ]
    },
    {
     "data": {
      "text/html": [
       "<pre>Boosted trees classifier:</pre>"
      ],
      "text/plain": [
       "Boosted trees classifier:"
      ]
     },
     "metadata": {},
     "output_type": "display_data"
    },
    {
     "data": {
      "text/html": [
       "<pre>--------------------------------------------------------</pre>"
      ],
      "text/plain": [
       "--------------------------------------------------------"
      ]
     },
     "metadata": {},
     "output_type": "display_data"
    },
    {
     "data": {
      "text/html": [
       "<pre>Number of examples          : 1749</pre>"
      ],
      "text/plain": [
       "Number of examples          : 1749"
      ]
     },
     "metadata": {},
     "output_type": "display_data"
    },
    {
     "data": {
      "text/html": [
       "<pre>Number of classes           : 12</pre>"
      ],
      "text/plain": [
       "Number of classes           : 12"
      ]
     },
     "metadata": {},
     "output_type": "display_data"
    },
    {
     "data": {
      "text/html": [
       "<pre>Number of feature columns   : 1</pre>"
      ],
      "text/plain": [
       "Number of feature columns   : 1"
      ]
     },
     "metadata": {},
     "output_type": "display_data"
    },
    {
     "data": {
      "text/html": [
       "<pre>Number of unpacked features : 300</pre>"
      ],
      "text/plain": [
       "Number of unpacked features : 300"
      ]
     },
     "metadata": {},
     "output_type": "display_data"
    },
    {
     "data": {
      "text/html": [
       "<pre>+-----------+--------------+-------------------+---------------------+-------------------+---------------------+</pre>"
      ],
      "text/plain": [
       "+-----------+--------------+-------------------+---------------------+-------------------+---------------------+"
      ]
     },
     "metadata": {},
     "output_type": "display_data"
    },
    {
     "data": {
      "text/html": [
       "<pre>| Iteration | Elapsed Time | Training Accuracy | Validation Accuracy | Training Log Loss | Validation Log Loss |</pre>"
      ],
      "text/plain": [
       "| Iteration | Elapsed Time | Training Accuracy | Validation Accuracy | Training Log Loss | Validation Log Loss |"
      ]
     },
     "metadata": {},
     "output_type": "display_data"
    },
    {
     "data": {
      "text/html": [
       "<pre>+-----------+--------------+-------------------+---------------------+-------------------+---------------------+</pre>"
      ],
      "text/plain": [
       "+-----------+--------------+-------------------+---------------------+-------------------+---------------------+"
      ]
     },
     "metadata": {},
     "output_type": "display_data"
    },
    {
     "data": {
      "text/html": [
       "<pre>| 1         | 0.166258     | 0.945683          | 0.569892            | 1.313792          | 1.837410            |</pre>"
      ],
      "text/plain": [
       "| 1         | 0.166258     | 0.945683          | 0.569892            | 1.313792          | 1.837410            |"
      ]
     },
     "metadata": {},
     "output_type": "display_data"
    },
    {
     "data": {
      "text/html": [
       "<pre>| 2         | 0.288618     | 0.977130          | 0.655914            | 0.937708          | 1.593938            |</pre>"
      ],
      "text/plain": [
       "| 2         | 0.288618     | 0.977130          | 0.655914            | 0.937708          | 1.593938            |"
      ]
     },
     "metadata": {},
     "output_type": "display_data"
    },
    {
     "data": {
      "text/html": [
       "<pre>| 3         | 0.410573     | 0.987993          | 0.709677            | 0.693478          | 1.426692            |</pre>"
      ],
      "text/plain": [
       "| 3         | 0.410573     | 0.987993          | 0.709677            | 0.693478          | 1.426692            |"
      ]
     },
     "metadata": {},
     "output_type": "display_data"
    },
    {
     "data": {
      "text/html": [
       "<pre>| 4         | 0.531073     | 0.991995          | 0.709677            | 0.526020          | 1.324600            |</pre>"
      ],
      "text/plain": [
       "| 4         | 0.531073     | 0.991995          | 0.709677            | 0.526020          | 1.324600            |"
      ]
     },
     "metadata": {},
     "output_type": "display_data"
    },
    {
     "data": {
      "text/html": [
       "<pre>| 5         | 0.649226     | 0.994282          | 0.752688            | 0.400404          | 1.198148            |</pre>"
      ],
      "text/plain": [
       "| 5         | 0.649226     | 0.994282          | 0.752688            | 0.400404          | 1.198148            |"
      ]
     },
     "metadata": {},
     "output_type": "display_data"
    },
    {
     "data": {
      "text/html": [
       "<pre>| 10        | 1.225871     | 0.998856          | 0.795699            | 0.119590          | 0.895015            |</pre>"
      ],
      "text/plain": [
       "| 10        | 1.225871     | 0.998856          | 0.795699            | 0.119590          | 0.895015            |"
      ]
     },
     "metadata": {},
     "output_type": "display_data"
    },
    {
     "data": {
      "text/html": [
       "<pre>+-----------+--------------+-------------------+---------------------+-------------------+---------------------+</pre>"
      ],
      "text/plain": [
       "+-----------+--------------+-------------------+---------------------+-------------------+---------------------+"
      ]
     },
     "metadata": {},
     "output_type": "display_data"
    },
    {
     "data": {
      "text/html": [
       "<pre>Random forest classifier:</pre>"
      ],
      "text/plain": [
       "Random forest classifier:"
      ]
     },
     "metadata": {},
     "output_type": "display_data"
    },
    {
     "data": {
      "text/html": [
       "<pre>--------------------------------------------------------</pre>"
      ],
      "text/plain": [
       "--------------------------------------------------------"
      ]
     },
     "metadata": {},
     "output_type": "display_data"
    },
    {
     "data": {
      "text/html": [
       "<pre>Number of examples          : 1749</pre>"
      ],
      "text/plain": [
       "Number of examples          : 1749"
      ]
     },
     "metadata": {},
     "output_type": "display_data"
    },
    {
     "data": {
      "text/html": [
       "<pre>Number of classes           : 12</pre>"
      ],
      "text/plain": [
       "Number of classes           : 12"
      ]
     },
     "metadata": {},
     "output_type": "display_data"
    },
    {
     "data": {
      "text/html": [
       "<pre>Number of feature columns   : 1</pre>"
      ],
      "text/plain": [
       "Number of feature columns   : 1"
      ]
     },
     "metadata": {},
     "output_type": "display_data"
    },
    {
     "data": {
      "text/html": [
       "<pre>Number of unpacked features : 300</pre>"
      ],
      "text/plain": [
       "Number of unpacked features : 300"
      ]
     },
     "metadata": {},
     "output_type": "display_data"
    },
    {
     "data": {
      "text/html": [
       "<pre>+-----------+--------------+-------------------+---------------------+-------------------+---------------------+</pre>"
      ],
      "text/plain": [
       "+-----------+--------------+-------------------+---------------------+-------------------+---------------------+"
      ]
     },
     "metadata": {},
     "output_type": "display_data"
    },
    {
     "data": {
      "text/html": [
       "<pre>| Iteration | Elapsed Time | Training Accuracy | Validation Accuracy | Training Log Loss | Validation Log Loss |</pre>"
      ],
      "text/plain": [
       "| Iteration | Elapsed Time | Training Accuracy | Validation Accuracy | Training Log Loss | Validation Log Loss |"
      ]
     },
     "metadata": {},
     "output_type": "display_data"
    },
    {
     "data": {
      "text/html": [
       "<pre>+-----------+--------------+-------------------+---------------------+-------------------+---------------------+</pre>"
      ],
      "text/plain": [
       "+-----------+--------------+-------------------+---------------------+-------------------+---------------------+"
      ]
     },
     "metadata": {},
     "output_type": "display_data"
    },
    {
     "data": {
      "text/html": [
       "<pre>| 1         | 0.102183     | 0.899371          | 0.634409            | 0.455901          | 1.489042            |</pre>"
      ],
      "text/plain": [
       "| 1         | 0.102183     | 0.899371          | 0.634409            | 0.455901          | 1.489042            |"
      ]
     },
     "metadata": {},
     "output_type": "display_data"
    },
    {
     "data": {
      "text/html": [
       "<pre>| 2         | 0.200409     | 0.946827          | 0.666667            | 0.349667          | 1.147643            |</pre>"
      ],
      "text/plain": [
       "| 2         | 0.200409     | 0.946827          | 0.666667            | 0.349667          | 1.147643            |"
      ]
     },
     "metadata": {},
     "output_type": "display_data"
    },
    {
     "data": {
      "text/html": [
       "<pre>| 3         | 0.305155     | 0.955403          | 0.698925            | 0.332222          | 1.100827            |</pre>"
      ],
      "text/plain": [
       "| 3         | 0.305155     | 0.955403          | 0.698925            | 0.332222          | 1.100827            |"
      ]
     },
     "metadata": {},
     "output_type": "display_data"
    },
    {
     "data": {
      "text/html": [
       "<pre>| 4         | 0.401836     | 0.963979          | 0.698925            | 0.315915          | 1.049114            |</pre>"
      ],
      "text/plain": [
       "| 4         | 0.401836     | 0.963979          | 0.698925            | 0.315915          | 1.049114            |"
      ]
     },
     "metadata": {},
     "output_type": "display_data"
    },
    {
     "data": {
      "text/html": [
       "<pre>| 5         | 0.500041     | 0.968553          | 0.709677            | 0.305471          | 1.076601            |</pre>"
      ],
      "text/plain": [
       "| 5         | 0.500041     | 0.968553          | 0.709677            | 0.305471          | 1.076601            |"
      ]
     },
     "metadata": {},
     "output_type": "display_data"
    },
    {
     "data": {
      "text/html": [
       "<pre>| 10        | 0.985762     | 0.977702          | 0.709677            | 0.294563          | 1.084128            |</pre>"
      ],
      "text/plain": [
       "| 10        | 0.985762     | 0.977702          | 0.709677            | 0.294563          | 1.084128            |"
      ]
     },
     "metadata": {},
     "output_type": "display_data"
    },
    {
     "data": {
      "text/html": [
       "<pre>+-----------+--------------+-------------------+---------------------+-------------------+---------------------+</pre>"
      ],
      "text/plain": [
       "+-----------+--------------+-------------------+---------------------+-------------------+---------------------+"
      ]
     },
     "metadata": {},
     "output_type": "display_data"
    },
    {
     "data": {
      "text/html": [
       "<pre>Decision tree classifier:</pre>"
      ],
      "text/plain": [
       "Decision tree classifier:"
      ]
     },
     "metadata": {},
     "output_type": "display_data"
    },
    {
     "data": {
      "text/html": [
       "<pre>--------------------------------------------------------</pre>"
      ],
      "text/plain": [
       "--------------------------------------------------------"
      ]
     },
     "metadata": {},
     "output_type": "display_data"
    },
    {
     "data": {
      "text/html": [
       "<pre>Number of examples          : 1749</pre>"
      ],
      "text/plain": [
       "Number of examples          : 1749"
      ]
     },
     "metadata": {},
     "output_type": "display_data"
    },
    {
     "data": {
      "text/html": [
       "<pre>Number of classes           : 12</pre>"
      ],
      "text/plain": [
       "Number of classes           : 12"
      ]
     },
     "metadata": {},
     "output_type": "display_data"
    },
    {
     "data": {
      "text/html": [
       "<pre>Number of feature columns   : 1</pre>"
      ],
      "text/plain": [
       "Number of feature columns   : 1"
      ]
     },
     "metadata": {},
     "output_type": "display_data"
    },
    {
     "data": {
      "text/html": [
       "<pre>Number of unpacked features : 300</pre>"
      ],
      "text/plain": [
       "Number of unpacked features : 300"
      ]
     },
     "metadata": {},
     "output_type": "display_data"
    },
    {
     "data": {
      "text/html": [
       "<pre>+-----------+--------------+-------------------+---------------------+-------------------+---------------------+</pre>"
      ],
      "text/plain": [
       "+-----------+--------------+-------------------+---------------------+-------------------+---------------------+"
      ]
     },
     "metadata": {},
     "output_type": "display_data"
    },
    {
     "data": {
      "text/html": [
       "<pre>| Iteration | Elapsed Time | Training Accuracy | Validation Accuracy | Training Log Loss | Validation Log Loss |</pre>"
      ],
      "text/plain": [
       "| Iteration | Elapsed Time | Training Accuracy | Validation Accuracy | Training Log Loss | Validation Log Loss |"
      ]
     },
     "metadata": {},
     "output_type": "display_data"
    },
    {
     "data": {
      "text/html": [
       "<pre>+-----------+--------------+-------------------+---------------------+-------------------+---------------------+</pre>"
      ],
      "text/plain": [
       "+-----------+--------------+-------------------+---------------------+-------------------+---------------------+"
      ]
     },
     "metadata": {},
     "output_type": "display_data"
    },
    {
     "data": {
      "text/html": [
       "<pre>| 1         | 0.123809     | 0.945683          | 0.569892            | 0.322852          | 1.680884            |</pre>"
      ],
      "text/plain": [
       "| 1         | 0.123809     | 0.945683          | 0.569892            | 0.322852          | 1.680884            |"
      ]
     },
     "metadata": {},
     "output_type": "display_data"
    },
    {
     "data": {
      "text/html": [
       "<pre>+-----------+--------------+-------------------+---------------------+-------------------+---------------------+</pre>"
      ],
      "text/plain": [
       "+-----------+--------------+-------------------+---------------------+-------------------+---------------------+"
      ]
     },
     "metadata": {},
     "output_type": "display_data"
    },
    {
     "data": {
      "text/html": [
       "<pre>Logistic regression:</pre>"
      ],
      "text/plain": [
       "Logistic regression:"
      ]
     },
     "metadata": {},
     "output_type": "display_data"
    },
    {
     "data": {
      "text/html": [
       "<pre>--------------------------------------------------------</pre>"
      ],
      "text/plain": [
       "--------------------------------------------------------"
      ]
     },
     "metadata": {},
     "output_type": "display_data"
    },
    {
     "data": {
      "text/html": [
       "<pre>Number of examples          : 1749</pre>"
      ],
      "text/plain": [
       "Number of examples          : 1749"
      ]
     },
     "metadata": {},
     "output_type": "display_data"
    },
    {
     "data": {
      "text/html": [
       "<pre>Number of classes           : 12</pre>"
      ],
      "text/plain": [
       "Number of classes           : 12"
      ]
     },
     "metadata": {},
     "output_type": "display_data"
    },
    {
     "data": {
      "text/html": [
       "<pre>Number of feature columns   : 1</pre>"
      ],
      "text/plain": [
       "Number of feature columns   : 1"
      ]
     },
     "metadata": {},
     "output_type": "display_data"
    },
    {
     "data": {
      "text/html": [
       "<pre>Number of unpacked features : 300</pre>"
      ],
      "text/plain": [
       "Number of unpacked features : 300"
      ]
     },
     "metadata": {},
     "output_type": "display_data"
    },
    {
     "data": {
      "text/html": [
       "<pre>Number of coefficients      : 3311</pre>"
      ],
      "text/plain": [
       "Number of coefficients      : 3311"
      ]
     },
     "metadata": {},
     "output_type": "display_data"
    },
    {
     "data": {
      "text/html": [
       "<pre>Starting L-BFGS</pre>"
      ],
      "text/plain": [
       "Starting L-BFGS"
      ]
     },
     "metadata": {},
     "output_type": "display_data"
    },
    {
     "data": {
      "text/html": [
       "<pre>--------------------------------------------------------</pre>"
      ],
      "text/plain": [
       "--------------------------------------------------------"
      ]
     },
     "metadata": {},
     "output_type": "display_data"
    },
    {
     "data": {
      "text/html": [
       "<pre>+-----------+----------+-----------+--------------+-------------------+---------------------+</pre>"
      ],
      "text/plain": [
       "+-----------+----------+-----------+--------------+-------------------+---------------------+"
      ]
     },
     "metadata": {},
     "output_type": "display_data"
    },
    {
     "data": {
      "text/html": [
       "<pre>| Iteration | Passes   | Step size | Elapsed Time | Training Accuracy | Validation Accuracy |</pre>"
      ],
      "text/plain": [
       "| Iteration | Passes   | Step size | Elapsed Time | Training Accuracy | Validation Accuracy |"
      ]
     },
     "metadata": {},
     "output_type": "display_data"
    },
    {
     "data": {
      "text/html": [
       "<pre>+-----------+----------+-----------+--------------+-------------------+---------------------+</pre>"
      ],
      "text/plain": [
       "+-----------+----------+-----------+--------------+-------------------+---------------------+"
      ]
     },
     "metadata": {},
     "output_type": "display_data"
    },
    {
     "data": {
      "text/html": [
       "<pre>| 0         | 2        | 1.000000  | 0.019308     | 0.570612          | 0.526882            |</pre>"
      ],
      "text/plain": [
       "| 0         | 2        | 1.000000  | 0.019308     | 0.570612          | 0.526882            |"
      ]
     },
     "metadata": {},
     "output_type": "display_data"
    },
    {
     "data": {
      "text/html": [
       "<pre>| 1         | 4        | 1.000000  | 0.067883     | 0.661521          | 0.591398            |</pre>"
      ],
      "text/plain": [
       "| 1         | 4        | 1.000000  | 0.067883     | 0.661521          | 0.591398            |"
      ]
     },
     "metadata": {},
     "output_type": "display_data"
    },
    {
     "data": {
      "text/html": [
       "<pre>| 2         | 5        | 1.000000  | 0.093195     | 0.729560          | 0.645161            |</pre>"
      ],
      "text/plain": [
       "| 2         | 5        | 1.000000  | 0.093195     | 0.729560          | 0.645161            |"
      ]
     },
     "metadata": {},
     "output_type": "display_data"
    },
    {
     "data": {
      "text/html": [
       "<pre>| 3         | 7        | 1.000000  | 0.129423     | 0.771870          | 0.677419            |</pre>"
      ],
      "text/plain": [
       "| 3         | 7        | 1.000000  | 0.129423     | 0.771870          | 0.677419            |"
      ]
     },
     "metadata": {},
     "output_type": "display_data"
    },
    {
     "data": {
      "text/html": [
       "<pre>| 4         | 8        | 1.000000  | 0.152455     | 0.791309          | 0.677419            |</pre>"
      ],
      "text/plain": [
       "| 4         | 8        | 1.000000  | 0.152455     | 0.791309          | 0.677419            |"
      ]
     },
     "metadata": {},
     "output_type": "display_data"
    },
    {
     "data": {
      "text/html": [
       "<pre>| 9         | 14       | 1.000000  | 0.286548     | 0.865066          | 0.752688            |</pre>"
      ],
      "text/plain": [
       "| 9         | 14       | 1.000000  | 0.286548     | 0.865066          | 0.752688            |"
      ]
     },
     "metadata": {},
     "output_type": "display_data"
    },
    {
     "data": {
      "text/html": [
       "<pre>+-----------+----------+-----------+--------------+-------------------+---------------------+</pre>"
      ],
      "text/plain": [
       "+-----------+----------+-----------+--------------+-------------------+---------------------+"
      ]
     },
     "metadata": {},
     "output_type": "display_data"
    },
    {
     "name": "stdout",
     "output_type": "stream",
     "text": [
      "PROGRESS: Model selection based on validation accuracy:\n",
      "PROGRESS: ---------------------------------------------\n",
      "PROGRESS: BoostedTreesClassifier          : 0.7956989247311828\n",
      "PROGRESS: RandomForestClassifier          : 0.7096774193548387\n",
      "PROGRESS: DecisionTreeClassifier          : 0.5698924731182796\n",
      "PROGRESS: LogisticClassifier              : 0.7526881720430108\n",
      "PROGRESS: ---------------------------------------------\n",
      "PROGRESS: Selecting BoostedTreesClassifier based on validation set performance.\n"
     ]
    }
   ],
   "source": [
    "moel = tc.classifier.create(dsid_4_sframe, target='target')"
   ]
  },
  {
   "cell_type": "code",
   "execution_count": 10,
   "id": "62919cb7",
   "metadata": {},
   "outputs": [
    {
     "name": "stdout",
     "output_type": "stream",
     "text": [
      "PROGRESS: Creating a validation set from 5 percent of training data. This may take a while.\n",
      "          You can set ``validation_set=None`` to disable validation tracking.\n",
      "\n",
      "PROGRESS: The following methods are available for this type of problem.\n",
      "PROGRESS: BoostedTreesClassifier, RandomForestClassifier, DecisionTreeClassifier, LogisticClassifier\n",
      "PROGRESS: The returned model will be chosen according to validation accuracy.\n"
     ]
    },
    {
     "data": {
      "text/html": [
       "<pre>Boosted trees classifier:</pre>"
      ],
      "text/plain": [
       "Boosted trees classifier:"
      ]
     },
     "metadata": {},
     "output_type": "display_data"
    },
    {
     "data": {
      "text/html": [
       "<pre>--------------------------------------------------------</pre>"
      ],
      "text/plain": [
       "--------------------------------------------------------"
      ]
     },
     "metadata": {},
     "output_type": "display_data"
    },
    {
     "data": {
      "text/html": [
       "<pre>Number of examples          : 1749</pre>"
      ],
      "text/plain": [
       "Number of examples          : 1749"
      ]
     },
     "metadata": {},
     "output_type": "display_data"
    },
    {
     "data": {
      "text/html": [
       "<pre>Number of classes           : 12</pre>"
      ],
      "text/plain": [
       "Number of classes           : 12"
      ]
     },
     "metadata": {},
     "output_type": "display_data"
    },
    {
     "data": {
      "text/html": [
       "<pre>Number of feature columns   : 1</pre>"
      ],
      "text/plain": [
       "Number of feature columns   : 1"
      ]
     },
     "metadata": {},
     "output_type": "display_data"
    },
    {
     "data": {
      "text/html": [
       "<pre>Number of unpacked features : 150</pre>"
      ],
      "text/plain": [
       "Number of unpacked features : 150"
      ]
     },
     "metadata": {},
     "output_type": "display_data"
    },
    {
     "data": {
      "text/html": [
       "<pre>+-----------+--------------+-------------------+---------------------+-------------------+---------------------+</pre>"
      ],
      "text/plain": [
       "+-----------+--------------+-------------------+---------------------+-------------------+---------------------+"
      ]
     },
     "metadata": {},
     "output_type": "display_data"
    },
    {
     "data": {
      "text/html": [
       "<pre>| Iteration | Elapsed Time | Training Accuracy | Validation Accuracy | Training Log Loss | Validation Log Loss |</pre>"
      ],
      "text/plain": [
       "| Iteration | Elapsed Time | Training Accuracy | Validation Accuracy | Training Log Loss | Validation Log Loss |"
      ]
     },
     "metadata": {},
     "output_type": "display_data"
    },
    {
     "data": {
      "text/html": [
       "<pre>+-----------+--------------+-------------------+---------------------+-------------------+---------------------+</pre>"
      ],
      "text/plain": [
       "+-----------+--------------+-------------------+---------------------+-------------------+---------------------+"
      ]
     },
     "metadata": {},
     "output_type": "display_data"
    },
    {
     "data": {
      "text/html": [
       "<pre>| 1         | 0.092768     | 0.927959          | 0.720430            | 1.368436          | 1.631888            |</pre>"
      ],
      "text/plain": [
       "| 1         | 0.092768     | 0.927959          | 0.720430            | 1.368436          | 1.631888            |"
      ]
     },
     "metadata": {},
     "output_type": "display_data"
    },
    {
     "data": {
      "text/html": [
       "<pre>| 2         | 0.162678     | 0.962836          | 0.752688            | 0.995941          | 1.351815            |</pre>"
      ],
      "text/plain": [
       "| 2         | 0.162678     | 0.962836          | 0.752688            | 0.995941          | 1.351815            |"
      ]
     },
     "metadata": {},
     "output_type": "display_data"
    },
    {
     "data": {
      "text/html": [
       "<pre>| 3         | 0.233314     | 0.978273          | 0.795699            | 0.751541          | 1.147561            |</pre>"
      ],
      "text/plain": [
       "| 3         | 0.233314     | 0.978273          | 0.795699            | 0.751541          | 1.147561            |"
      ]
     },
     "metadata": {},
     "output_type": "display_data"
    },
    {
     "data": {
      "text/html": [
       "<pre>| 4         | 0.301938     | 0.985706          | 0.817204            | 0.579009          | 1.019650            |</pre>"
      ],
      "text/plain": [
       "| 4         | 0.301938     | 0.985706          | 0.817204            | 0.579009          | 1.019650            |"
      ]
     },
     "metadata": {},
     "output_type": "display_data"
    },
    {
     "data": {
      "text/html": [
       "<pre>| 5         | 0.369655     | 0.988565          | 0.827957            | 0.451422          | 0.911431            |</pre>"
      ],
      "text/plain": [
       "| 5         | 0.369655     | 0.988565          | 0.827957            | 0.451422          | 0.911431            |"
      ]
     },
     "metadata": {},
     "output_type": "display_data"
    },
    {
     "data": {
      "text/html": [
       "<pre>| 10        | 0.701852     | 0.995426          | 0.827957            | 0.145717          | 0.643818            |</pre>"
      ],
      "text/plain": [
       "| 10        | 0.701852     | 0.995426          | 0.827957            | 0.145717          | 0.643818            |"
      ]
     },
     "metadata": {},
     "output_type": "display_data"
    },
    {
     "data": {
      "text/html": [
       "<pre>+-----------+--------------+-------------------+---------------------+-------------------+---------------------+</pre>"
      ],
      "text/plain": [
       "+-----------+--------------+-------------------+---------------------+-------------------+---------------------+"
      ]
     },
     "metadata": {},
     "output_type": "display_data"
    },
    {
     "data": {
      "text/html": [
       "<pre>Random forest classifier:</pre>"
      ],
      "text/plain": [
       "Random forest classifier:"
      ]
     },
     "metadata": {},
     "output_type": "display_data"
    },
    {
     "data": {
      "text/html": [
       "<pre>--------------------------------------------------------</pre>"
      ],
      "text/plain": [
       "--------------------------------------------------------"
      ]
     },
     "metadata": {},
     "output_type": "display_data"
    },
    {
     "data": {
      "text/html": [
       "<pre>Number of examples          : 1749</pre>"
      ],
      "text/plain": [
       "Number of examples          : 1749"
      ]
     },
     "metadata": {},
     "output_type": "display_data"
    },
    {
     "data": {
      "text/html": [
       "<pre>Number of classes           : 12</pre>"
      ],
      "text/plain": [
       "Number of classes           : 12"
      ]
     },
     "metadata": {},
     "output_type": "display_data"
    },
    {
     "data": {
      "text/html": [
       "<pre>Number of feature columns   : 1</pre>"
      ],
      "text/plain": [
       "Number of feature columns   : 1"
      ]
     },
     "metadata": {},
     "output_type": "display_data"
    },
    {
     "data": {
      "text/html": [
       "<pre>Number of unpacked features : 150</pre>"
      ],
      "text/plain": [
       "Number of unpacked features : 150"
      ]
     },
     "metadata": {},
     "output_type": "display_data"
    },
    {
     "data": {
      "text/html": [
       "<pre>+-----------+--------------+-------------------+---------------------+-------------------+---------------------+</pre>"
      ],
      "text/plain": [
       "+-----------+--------------+-------------------+---------------------+-------------------+---------------------+"
      ]
     },
     "metadata": {},
     "output_type": "display_data"
    },
    {
     "data": {
      "text/html": [
       "<pre>| Iteration | Elapsed Time | Training Accuracy | Validation Accuracy | Training Log Loss | Validation Log Loss |</pre>"
      ],
      "text/plain": [
       "| Iteration | Elapsed Time | Training Accuracy | Validation Accuracy | Training Log Loss | Validation Log Loss |"
      ]
     },
     "metadata": {},
     "output_type": "display_data"
    },
    {
     "data": {
      "text/html": [
       "<pre>+-----------+--------------+-------------------+---------------------+-------------------+---------------------+</pre>"
      ],
      "text/plain": [
       "+-----------+--------------+-------------------+---------------------+-------------------+---------------------+"
      ]
     },
     "metadata": {},
     "output_type": "display_data"
    },
    {
     "data": {
      "text/html": [
       "<pre>| 1         | 0.064821     | 0.864494          | 0.655914            | 0.607591          | 1.407120            |</pre>"
      ],
      "text/plain": [
       "| 1         | 0.064821     | 0.864494          | 0.655914            | 0.607591          | 1.407120            |"
      ]
     },
     "metadata": {},
     "output_type": "display_data"
    },
    {
     "data": {
      "text/html": [
       "<pre>| 2         | 0.124360     | 0.925100          | 0.752688            | 0.448390          | 1.010875            |</pre>"
      ],
      "text/plain": [
       "| 2         | 0.124360     | 0.925100          | 0.752688            | 0.448390          | 1.010875            |"
      ]
     },
     "metadata": {},
     "output_type": "display_data"
    },
    {
     "data": {
      "text/html": [
       "<pre>| 3         | 0.183339     | 0.950257          | 0.763441            | 0.413312          | 0.930999            |</pre>"
      ],
      "text/plain": [
       "| 3         | 0.183339     | 0.950257          | 0.763441            | 0.413312          | 0.930999            |"
      ]
     },
     "metadata": {},
     "output_type": "display_data"
    },
    {
     "data": {
      "text/html": [
       "<pre>| 4         | 0.241877     | 0.962264          | 0.774194            | 0.399892          | 0.928383            |</pre>"
      ],
      "text/plain": [
       "| 4         | 0.241877     | 0.962264          | 0.774194            | 0.399892          | 0.928383            |"
      ]
     },
     "metadata": {},
     "output_type": "display_data"
    },
    {
     "data": {
      "text/html": [
       "<pre>| 5         | 0.302232     | 0.967982          | 0.784946            | 0.396525          | 0.888509            |</pre>"
      ],
      "text/plain": [
       "| 5         | 0.302232     | 0.967982          | 0.784946            | 0.396525          | 0.888509            |"
      ]
     },
     "metadata": {},
     "output_type": "display_data"
    },
    {
     "data": {
      "text/html": [
       "<pre>| 10        | 0.582993     | 0.978845          | 0.817204            | 0.372730          | 0.824556            |</pre>"
      ],
      "text/plain": [
       "| 10        | 0.582993     | 0.978845          | 0.817204            | 0.372730          | 0.824556            |"
      ]
     },
     "metadata": {},
     "output_type": "display_data"
    },
    {
     "data": {
      "text/html": [
       "<pre>+-----------+--------------+-------------------+---------------------+-------------------+---------------------+</pre>"
      ],
      "text/plain": [
       "+-----------+--------------+-------------------+---------------------+-------------------+---------------------+"
      ]
     },
     "metadata": {},
     "output_type": "display_data"
    },
    {
     "data": {
      "text/html": [
       "<pre>Decision tree classifier:</pre>"
      ],
      "text/plain": [
       "Decision tree classifier:"
      ]
     },
     "metadata": {},
     "output_type": "display_data"
    },
    {
     "data": {
      "text/html": [
       "<pre>--------------------------------------------------------</pre>"
      ],
      "text/plain": [
       "--------------------------------------------------------"
      ]
     },
     "metadata": {},
     "output_type": "display_data"
    },
    {
     "data": {
      "text/html": [
       "<pre>Number of examples          : 1749</pre>"
      ],
      "text/plain": [
       "Number of examples          : 1749"
      ]
     },
     "metadata": {},
     "output_type": "display_data"
    },
    {
     "data": {
      "text/html": [
       "<pre>Number of classes           : 12</pre>"
      ],
      "text/plain": [
       "Number of classes           : 12"
      ]
     },
     "metadata": {},
     "output_type": "display_data"
    },
    {
     "data": {
      "text/html": [
       "<pre>Number of feature columns   : 1</pre>"
      ],
      "text/plain": [
       "Number of feature columns   : 1"
      ]
     },
     "metadata": {},
     "output_type": "display_data"
    },
    {
     "data": {
      "text/html": [
       "<pre>Number of unpacked features : 150</pre>"
      ],
      "text/plain": [
       "Number of unpacked features : 150"
      ]
     },
     "metadata": {},
     "output_type": "display_data"
    },
    {
     "data": {
      "text/html": [
       "<pre>+-----------+--------------+-------------------+---------------------+-------------------+---------------------+</pre>"
      ],
      "text/plain": [
       "+-----------+--------------+-------------------+---------------------+-------------------+---------------------+"
      ]
     },
     "metadata": {},
     "output_type": "display_data"
    },
    {
     "data": {
      "text/html": [
       "<pre>| Iteration | Elapsed Time | Training Accuracy | Validation Accuracy | Training Log Loss | Validation Log Loss |</pre>"
      ],
      "text/plain": [
       "| Iteration | Elapsed Time | Training Accuracy | Validation Accuracy | Training Log Loss | Validation Log Loss |"
      ]
     },
     "metadata": {},
     "output_type": "display_data"
    },
    {
     "data": {
      "text/html": [
       "<pre>+-----------+--------------+-------------------+---------------------+-------------------+---------------------+</pre>"
      ],
      "text/plain": [
       "+-----------+--------------+-------------------+---------------------+-------------------+---------------------+"
      ]
     },
     "metadata": {},
     "output_type": "display_data"
    },
    {
     "data": {
      "text/html": [
       "<pre>| 1         | 0.074223     | 0.927959          | 0.720430            | 0.397763          | 1.171603            |</pre>"
      ],
      "text/plain": [
       "| 1         | 0.074223     | 0.927959          | 0.720430            | 0.397763          | 1.171603            |"
      ]
     },
     "metadata": {},
     "output_type": "display_data"
    },
    {
     "data": {
      "text/html": [
       "<pre>+-----------+--------------+-------------------+---------------------+-------------------+---------------------+</pre>"
      ],
      "text/plain": [
       "+-----------+--------------+-------------------+---------------------+-------------------+---------------------+"
      ]
     },
     "metadata": {},
     "output_type": "display_data"
    },
    {
     "data": {
      "text/html": [
       "<pre>Logistic regression:</pre>"
      ],
      "text/plain": [
       "Logistic regression:"
      ]
     },
     "metadata": {},
     "output_type": "display_data"
    },
    {
     "data": {
      "text/html": [
       "<pre>--------------------------------------------------------</pre>"
      ],
      "text/plain": [
       "--------------------------------------------------------"
      ]
     },
     "metadata": {},
     "output_type": "display_data"
    },
    {
     "data": {
      "text/html": [
       "<pre>Number of examples          : 1749</pre>"
      ],
      "text/plain": [
       "Number of examples          : 1749"
      ]
     },
     "metadata": {},
     "output_type": "display_data"
    },
    {
     "data": {
      "text/html": [
       "<pre>Number of classes           : 12</pre>"
      ],
      "text/plain": [
       "Number of classes           : 12"
      ]
     },
     "metadata": {},
     "output_type": "display_data"
    },
    {
     "data": {
      "text/html": [
       "<pre>Number of feature columns   : 1</pre>"
      ],
      "text/plain": [
       "Number of feature columns   : 1"
      ]
     },
     "metadata": {},
     "output_type": "display_data"
    },
    {
     "data": {
      "text/html": [
       "<pre>Number of unpacked features : 150</pre>"
      ],
      "text/plain": [
       "Number of unpacked features : 150"
      ]
     },
     "metadata": {},
     "output_type": "display_data"
    },
    {
     "data": {
      "text/html": [
       "<pre>Number of coefficients      : 1661</pre>"
      ],
      "text/plain": [
       "Number of coefficients      : 1661"
      ]
     },
     "metadata": {},
     "output_type": "display_data"
    },
    {
     "data": {
      "text/html": [
       "<pre>Starting L-BFGS</pre>"
      ],
      "text/plain": [
       "Starting L-BFGS"
      ]
     },
     "metadata": {},
     "output_type": "display_data"
    },
    {
     "data": {
      "text/html": [
       "<pre>--------------------------------------------------------</pre>"
      ],
      "text/plain": [
       "--------------------------------------------------------"
      ]
     },
     "metadata": {},
     "output_type": "display_data"
    },
    {
     "data": {
      "text/html": [
       "<pre>+-----------+----------+-----------+--------------+-------------------+---------------------+</pre>"
      ],
      "text/plain": [
       "+-----------+----------+-----------+--------------+-------------------+---------------------+"
      ]
     },
     "metadata": {},
     "output_type": "display_data"
    },
    {
     "data": {
      "text/html": [
       "<pre>| Iteration | Passes   | Step size | Elapsed Time | Training Accuracy | Validation Accuracy |</pre>"
      ],
      "text/plain": [
       "| Iteration | Passes   | Step size | Elapsed Time | Training Accuracy | Validation Accuracy |"
      ]
     },
     "metadata": {},
     "output_type": "display_data"
    },
    {
     "data": {
      "text/html": [
       "<pre>+-----------+----------+-----------+--------------+-------------------+---------------------+</pre>"
      ],
      "text/plain": [
       "+-----------+----------+-----------+--------------+-------------------+---------------------+"
      ]
     },
     "metadata": {},
     "output_type": "display_data"
    },
    {
     "data": {
      "text/html": [
       "<pre>| 0         | 4        | 21.000000 | 0.028677     | 0.768439          | 0.731183            |</pre>"
      ],
      "text/plain": [
       "| 0         | 4        | 21.000000 | 0.028677     | 0.768439          | 0.731183            |"
      ]
     },
     "metadata": {},
     "output_type": "display_data"
    },
    {
     "data": {
      "text/html": [
       "<pre>| 1         | 8        | 5.250000  | 0.077780     | 0.749571          | 0.688172            |</pre>"
      ],
      "text/plain": [
       "| 1         | 8        | 5.250000  | 0.077780     | 0.749571          | 0.688172            |"
      ]
     },
     "metadata": {},
     "output_type": "display_data"
    },
    {
     "data": {
      "text/html": [
       "<pre>| 2         | 11       | 2.353969  | 0.111081     | 0.858205          | 0.698925            |</pre>"
      ],
      "text/plain": [
       "| 2         | 11       | 2.353969  | 0.111081     | 0.858205          | 0.698925            |"
      ]
     },
     "metadata": {},
     "output_type": "display_data"
    },
    {
     "data": {
      "text/html": [
       "<pre>| 3         | 13       | 1.560192  | 0.135396     | 0.918811          | 0.720430            |</pre>"
      ],
      "text/plain": [
       "| 3         | 13       | 1.560192  | 0.135396     | 0.918811          | 0.720430            |"
      ]
     },
     "metadata": {},
     "output_type": "display_data"
    },
    {
     "data": {
      "text/html": [
       "<pre>| 4         | 14       | 1.560192  | 0.154697     | 0.945683          | 0.720430            |</pre>"
      ],
      "text/plain": [
       "| 4         | 14       | 1.560192  | 0.154697     | 0.945683          | 0.720430            |"
      ]
     },
     "metadata": {},
     "output_type": "display_data"
    },
    {
     "data": {
      "text/html": [
       "<pre>| 9         | 20       | 1.401970  | 0.264098     | 0.981132          | 0.763441            |</pre>"
      ],
      "text/plain": [
       "| 9         | 20       | 1.401970  | 0.264098     | 0.981132          | 0.763441            |"
      ]
     },
     "metadata": {},
     "output_type": "display_data"
    },
    {
     "data": {
      "text/html": [
       "<pre>+-----------+----------+-----------+--------------+-------------------+---------------------+</pre>"
      ],
      "text/plain": [
       "+-----------+----------+-----------+--------------+-------------------+---------------------+"
      ]
     },
     "metadata": {},
     "output_type": "display_data"
    },
    {
     "name": "stdout",
     "output_type": "stream",
     "text": [
      "PROGRESS: Model selection based on validation accuracy:\n",
      "PROGRESS: ---------------------------------------------\n",
      "PROGRESS: BoostedTreesClassifier          : 0.8279569892473119\n",
      "PROGRESS: RandomForestClassifier          : 0.8172043010752689\n",
      "PROGRESS: DecisionTreeClassifier          : 0.7204301075268817\n",
      "PROGRESS: LogisticClassifier              : 0.7634408602150538\n",
      "PROGRESS: ---------------------------------------------\n",
      "PROGRESS: Selecting BoostedTreesClassifier based on validation set performance.\n"
     ]
    }
   ],
   "source": [
    "from sklearn.decomposition import PCA\n",
    "\n",
    "data = get_dataset_data(4)\n",
    "X = data['sequence']\n",
    "pca = PCA(n_components=150)\n",
    "pca.fit(X) # fit data and then transform it\n",
    "X_pca = pca.transform(X)\n",
    "\n",
    "data['sequence'] = X_pca\n",
    "s_frame = tc.SFrame(data=data)\n",
    "\n",
    "moel = tc.classifier.create(s_frame, target='target')"
   ]
  },
  {
   "cell_type": "markdown",
   "id": "2cce206d",
   "metadata": {},
   "source": [
    "## Trying new appraoch"
   ]
  },
  {
   "cell_type": "code",
   "execution_count": 11,
   "id": "73fc649a",
   "metadata": {},
   "outputs": [],
   "source": [
    "from sklearn import __version__ as sklearn_version\n",
    "from sklearn.neural_network import MLPClassifier\n",
    "from sklearn.metrics import accuracy_score\n",
    "from sklearn.model_selection import train_test_split"
   ]
  },
  {
   "cell_type": "markdown",
   "id": "8ce9ebac",
   "metadata": {},
   "source": [
    "# Split data for Model development"
   ]
  },
  {
   "cell_type": "code",
   "execution_count": 12,
   "id": "f7571b67",
   "metadata": {},
   "outputs": [],
   "source": [
    "data = get_dataset_data(4)\n",
    "X = data['sequence']\n",
    "\n",
    "encode_rotation = {'x90':0,\n",
    "                  'xNeg90':1,\n",
    "                  'x180':2,\n",
    "                  'xNeg180':3,\n",
    "                  'y90':4,\n",
    "                  'yNeg90':5,\n",
    "                  'y180':6,\n",
    "                  'yNeg180':7,\n",
    "                  'z90':8,\n",
    "                  'zNeg90':9,\n",
    "                  'z180':10,\n",
    "                  'zNeg180':11}\n",
    "\n",
    "y = np.array([ encode_rotation[s] for s in data['target']])"
   ]
  },
  {
   "cell_type": "code",
   "execution_count": 13,
   "id": "fcd31aa4",
   "metadata": {},
   "outputs": [],
   "source": [
    "x_train, x_test, y_train, y_test = train_test_split(X, y, test_size=0.2, stratify=y)"
   ]
  },
  {
   "cell_type": "code",
   "execution_count": 14,
   "id": "50ede824",
   "metadata": {},
   "outputs": [],
   "source": [
    "def get_mlp_1(x, y, ephocs=150):\n",
    "    clf = MLPClassifier(hidden_layer_sizes=(50, 25), \n",
    "                        activation='relu', # compare to sigmoid\n",
    "                        solver='adam',\n",
    "                        alpha=1e-4, # L2 penalty\n",
    "                        batch_size='auto', # min of 200, num_samples\n",
    "                        learning_rate='constant', \n",
    "                        #learning_rate_init=0.2, # only SGD\n",
    "                        #power_t=0.5,    # only SGD\n",
    "                        max_iter=ephocs, \n",
    "                        shuffle=True, \n",
    "                        random_state=1, \n",
    "                        tol=1e-9, # for stopping\n",
    "                        verbose=False, \n",
    "                        warm_start=False, \n",
    "                        momentum=0.9, # only SGD\n",
    "                        #nesterovs_momentum=True, # only SGD\n",
    "                        early_stopping=False, \n",
    "                        validation_fraction=0.1, # only if early_stop is true\n",
    "                        beta_1=0.9, # adam decay rate of moment\n",
    "                        beta_2=0.999, # adam decay rate of moment\n",
    "                        epsilon=1e-08) # adam numerical stabilizer\n",
    "    clf.fit(x, y)\n",
    "    return clf"
   ]
  },
  {
   "cell_type": "code",
   "execution_count": 15,
   "id": "f599291f",
   "metadata": {},
   "outputs": [
    {
     "name": "stdout",
     "output_type": "stream",
     "text": [
      "CPU times: user 9.43 s, sys: 1.08 s, total: 10.5 s\n",
      "Wall time: 1.36 s\n"
     ]
    },
    {
     "name": "stderr",
     "output_type": "stream",
     "text": [
      "/Users/nicholaslarsen/opt/anaconda3/envs/mlenv2020/lib/python3.7/site-packages/sklearn/neural_network/_multilayer_perceptron.py:617: ConvergenceWarning: Stochastic Optimizer: Maximum iterations (150) reached and the optimization hasn't converged yet.\n",
      "  % self.max_iter, ConvergenceWarning)\n"
     ]
    }
   ],
   "source": [
    "%time clf = get_mlp_1(x_train, y_train)"
   ]
  },
  {
   "cell_type": "code",
   "execution_count": 16,
   "id": "b9b20491",
   "metadata": {},
   "outputs": [
    {
     "name": "stdout",
     "output_type": "stream",
     "text": [
      "Validation Acc: 0.9993211133740665\n"
     ]
    }
   ],
   "source": [
    "\n",
    "yhat = clf.predict(x_train)\n",
    "print('Validation Acc:',accuracy_score(yhat,y_train))"
   ]
  },
  {
   "cell_type": "code",
   "execution_count": 17,
   "id": "727e3214",
   "metadata": {},
   "outputs": [
    {
     "name": "stdout",
     "output_type": "stream",
     "text": [
      "Validation Acc: 0.8617886178861789\n"
     ]
    }
   ],
   "source": [
    "yhat = clf.predict(x_test)\n",
    "print('Validation Acc:',accuracy_score(yhat,y_test))"
   ]
  },
  {
   "cell_type": "markdown",
   "id": "f5dfe592",
   "metadata": {},
   "source": [
    "## Perform Strat K Fold"
   ]
  },
  {
   "cell_type": "code",
   "execution_count": 18,
   "id": "131b7a40",
   "metadata": {},
   "outputs": [],
   "source": [
    "from sklearn.model_selection import StratifiedKFold\n",
    "data = get_dataset_data(4)\n",
    "X = data['sequence']\n",
    "y = np.array([ encode_rotation[s] for s in data['target']])"
   ]
  },
  {
   "cell_type": "code",
   "execution_count": 19,
   "id": "7ca0c00d",
   "metadata": {},
   "outputs": [],
   "source": [
    "kfold = StratifiedKFold(n_splits=10).split(X, y)"
   ]
  },
  {
   "cell_type": "code",
   "execution_count": 20,
   "id": "73ca1609",
   "metadata": {},
   "outputs": [
    {
     "name": "stderr",
     "output_type": "stream",
     "text": [
      "/Users/nicholaslarsen/opt/anaconda3/envs/mlenv2020/lib/python3.7/site-packages/sklearn/neural_network/_multilayer_perceptron.py:617: ConvergenceWarning: Stochastic Optimizer: Maximum iterations (500) reached and the optimization hasn't converged yet.\n",
      "  % self.max_iter, ConvergenceWarning)\n",
      "/Users/nicholaslarsen/opt/anaconda3/envs/mlenv2020/lib/python3.7/site-packages/sklearn/neural_network/_multilayer_perceptron.py:617: ConvergenceWarning: Stochastic Optimizer: Maximum iterations (500) reached and the optimization hasn't converged yet.\n",
      "  % self.max_iter, ConvergenceWarning)\n",
      "/Users/nicholaslarsen/opt/anaconda3/envs/mlenv2020/lib/python3.7/site-packages/sklearn/neural_network/_multilayer_perceptron.py:617: ConvergenceWarning: Stochastic Optimizer: Maximum iterations (500) reached and the optimization hasn't converged yet.\n",
      "  % self.max_iter, ConvergenceWarning)\n",
      "/Users/nicholaslarsen/opt/anaconda3/envs/mlenv2020/lib/python3.7/site-packages/sklearn/neural_network/_multilayer_perceptron.py:617: ConvergenceWarning: Stochastic Optimizer: Maximum iterations (500) reached and the optimization hasn't converged yet.\n",
      "  % self.max_iter, ConvergenceWarning)\n",
      "/Users/nicholaslarsen/opt/anaconda3/envs/mlenv2020/lib/python3.7/site-packages/sklearn/neural_network/_multilayer_perceptron.py:617: ConvergenceWarning: Stochastic Optimizer: Maximum iterations (500) reached and the optimization hasn't converged yet.\n",
      "  % self.max_iter, ConvergenceWarning)\n",
      "/Users/nicholaslarsen/opt/anaconda3/envs/mlenv2020/lib/python3.7/site-packages/sklearn/neural_network/_multilayer_perceptron.py:617: ConvergenceWarning: Stochastic Optimizer: Maximum iterations (500) reached and the optimization hasn't converged yet.\n",
      "  % self.max_iter, ConvergenceWarning)\n",
      "/Users/nicholaslarsen/opt/anaconda3/envs/mlenv2020/lib/python3.7/site-packages/sklearn/neural_network/_multilayer_perceptron.py:617: ConvergenceWarning: Stochastic Optimizer: Maximum iterations (500) reached and the optimization hasn't converged yet.\n",
      "  % self.max_iter, ConvergenceWarning)\n",
      "/Users/nicholaslarsen/opt/anaconda3/envs/mlenv2020/lib/python3.7/site-packages/sklearn/neural_network/_multilayer_perceptron.py:617: ConvergenceWarning: Stochastic Optimizer: Maximum iterations (500) reached and the optimization hasn't converged yet.\n",
      "  % self.max_iter, ConvergenceWarning)\n",
      "/Users/nicholaslarsen/opt/anaconda3/envs/mlenv2020/lib/python3.7/site-packages/sklearn/neural_network/_multilayer_perceptron.py:617: ConvergenceWarning: Stochastic Optimizer: Maximum iterations (500) reached and the optimization hasn't converged yet.\n",
      "  % self.max_iter, ConvergenceWarning)\n"
     ]
    },
    {
     "name": "stdout",
     "output_type": "stream",
     "text": [
      "Acc: 0.9135135135135135\n",
      "Acc: 0.8702702702702703\n",
      "Acc: 0.9130434782608695\n",
      "Acc: 0.8532608695652174\n",
      "Acc: 0.8641304347826086\n",
      "Acc: 0.8967391304347826\n",
      "Acc: 0.9184782608695652\n",
      "Acc: 0.8532608695652174\n",
      "Acc: 0.8478260869565217\n",
      "Acc: 0.8913043478260869\n"
     ]
    },
    {
     "name": "stderr",
     "output_type": "stream",
     "text": [
      "/Users/nicholaslarsen/opt/anaconda3/envs/mlenv2020/lib/python3.7/site-packages/sklearn/neural_network/_multilayer_perceptron.py:617: ConvergenceWarning: Stochastic Optimizer: Maximum iterations (500) reached and the optimization hasn't converged yet.\n",
      "  % self.max_iter, ConvergenceWarning)\n"
     ]
    }
   ],
   "source": [
    "skf = StratifiedKFold(n_splits=10, random_state=1, shuffle=True)\n",
    "\n",
    "accs = []\n",
    "for train, test in skf.split(X,y):\n",
    "    x_train, x_test = X[train], X[test]\n",
    "    y_train, y_test = y[train], y[test]\n",
    "    \n",
    "    clf = get_mlp_1(x_train, y_train, ephocs=500)\n",
    "    yhat = clf.predict(x_test)\n",
    "    accs.append(accuracy_score(yhat, y_test))\n",
    "    \n",
    "for a in accs:\n",
    "    print(\"Acc:\", a)"
   ]
  },
  {
   "cell_type": "markdown",
   "id": "ab64249f",
   "metadata": {},
   "source": [
    "# Attempt 2 with a Deeper Network"
   ]
  },
  {
   "cell_type": "code",
   "execution_count": 21,
   "id": "169230c3",
   "metadata": {},
   "outputs": [],
   "source": [
    "def get_mlp_2(x, y, ephocs=150):\n",
    "    clf = MLPClassifier(hidden_layer_sizes=(100, 50, 25, 10), \n",
    "                        activation='relu', # compare to sigmoid\n",
    "                        solver='adam', \n",
    "                        alpha=1e-4, # L2 penalty\n",
    "                        batch_size='auto', # min of 200, num_samples\n",
    "                        learning_rate='constant', \n",
    "                        #learning_rate_init=0.2, # only SGD\n",
    "                        #power_t=0.5,    # only SGD\n",
    "                        max_iter=ephocs, \n",
    "                        shuffle=True, \n",
    "                        random_state=1, \n",
    "                        tol=1e-9, # for stopping\n",
    "                        verbose=False, \n",
    "                        warm_start=False, \n",
    "                        momentum=0.9, # only SGD\n",
    "                        #nesterovs_momentum=True, # only SGD\n",
    "                        early_stopping=False, \n",
    "                        validation_fraction=0.1, # only if early_stop is true\n",
    "                        beta_1=0.9, # adam decay rate of moment\n",
    "                        beta_2=0.999, # adam decay rate of moment\n",
    "                        epsilon=1e-08) # adam numerical stabilizer\n",
    "    clf.fit(x, y)\n",
    "    return clf"
   ]
  },
  {
   "cell_type": "code",
   "execution_count": 31,
   "id": "905b6b3e",
   "metadata": {},
   "outputs": [
    {
     "name": "stdout",
     "output_type": "stream",
     "text": [
      "Validation Acc: 0.8401084010840109\n",
      "CPU times: user 17.6 s, sys: 2.23 s, total: 19.8 s\n",
      "Wall time: 2.71 s\n"
     ]
    },
    {
     "name": "stderr",
     "output_type": "stream",
     "text": [
      "/Users/nicholaslarsen/opt/anaconda3/envs/mlenv2020/lib/python3.7/site-packages/sklearn/neural_network/_multilayer_perceptron.py:617: ConvergenceWarning: Stochastic Optimizer: Maximum iterations (150) reached and the optimization hasn't converged yet.\n",
      "  % self.max_iter, ConvergenceWarning)\n"
     ]
    }
   ],
   "source": [
    "%%time\n",
    "x_train, x_test, y_train, y_test = train_test_split(X, y, test_size=0.2, stratify=y)\n",
    "clf = get_mlp_2(x_train, y_train)\n",
    "yhat = clf.predict(x_test)\n",
    "print('Validation Acc:',accuracy_score(yhat,y_test))"
   ]
  },
  {
   "cell_type": "code",
   "execution_count": 33,
   "id": "3c507a30",
   "metadata": {},
   "outputs": [
    {
     "name": "stdout",
     "output_type": "stream",
     "text": [
      "Validation Acc: 0.8401084010840109\n"
     ]
    }
   ],
   "source": [
    "import pickle\n",
    "pickle.dump(clf, open('.\\model1_4.save', 'wb'))\n",
    "\n",
    "clf1_2 = pickle.load(open('.\\model1_4.save', 'rb'))\n",
    "\n",
    "yhat = clf.predict(x_test)\n",
    "print('Validation Acc:',accuracy_score(yhat,y_test))"
   ]
  },
  {
   "cell_type": "markdown",
   "id": "dea61fa1",
   "metadata": {},
   "source": [
    "### predict 1"
   ]
  },
  {
   "cell_type": "code",
   "execution_count": 43,
   "id": "ba462cca",
   "metadata": {
    "scrolled": false
   },
   "outputs": [
    {
     "data": {
      "text/plain": [
       "0"
      ]
     },
     "execution_count": 43,
     "metadata": {},
     "output_type": "execute_result"
    }
   ],
   "source": [
    "x = x_train[1]\n",
    "\n",
    "x = x.reshape(1, -1)\n",
    "yhat = clf1_2.predict(x)\n",
    "yhat[0]"
   ]
  },
  {
   "cell_type": "code",
   "execution_count": 23,
   "id": "8aa649aa",
   "metadata": {},
   "outputs": [
    {
     "name": "stderr",
     "output_type": "stream",
     "text": [
      "/Users/nicholaslarsen/opt/anaconda3/envs/mlenv2020/lib/python3.7/site-packages/sklearn/neural_network/_multilayer_perceptron.py:617: ConvergenceWarning: Stochastic Optimizer: Maximum iterations (500) reached and the optimization hasn't converged yet.\n",
      "  % self.max_iter, ConvergenceWarning)\n",
      "/Users/nicholaslarsen/opt/anaconda3/envs/mlenv2020/lib/python3.7/site-packages/sklearn/neural_network/_multilayer_perceptron.py:617: ConvergenceWarning: Stochastic Optimizer: Maximum iterations (500) reached and the optimization hasn't converged yet.\n",
      "  % self.max_iter, ConvergenceWarning)\n",
      "/Users/nicholaslarsen/opt/anaconda3/envs/mlenv2020/lib/python3.7/site-packages/sklearn/neural_network/_multilayer_perceptron.py:617: ConvergenceWarning: Stochastic Optimizer: Maximum iterations (500) reached and the optimization hasn't converged yet.\n",
      "  % self.max_iter, ConvergenceWarning)\n",
      "/Users/nicholaslarsen/opt/anaconda3/envs/mlenv2020/lib/python3.7/site-packages/sklearn/neural_network/_multilayer_perceptron.py:617: ConvergenceWarning: Stochastic Optimizer: Maximum iterations (500) reached and the optimization hasn't converged yet.\n",
      "  % self.max_iter, ConvergenceWarning)\n",
      "/Users/nicholaslarsen/opt/anaconda3/envs/mlenv2020/lib/python3.7/site-packages/sklearn/neural_network/_multilayer_perceptron.py:617: ConvergenceWarning: Stochastic Optimizer: Maximum iterations (500) reached and the optimization hasn't converged yet.\n",
      "  % self.max_iter, ConvergenceWarning)\n",
      "/Users/nicholaslarsen/opt/anaconda3/envs/mlenv2020/lib/python3.7/site-packages/sklearn/neural_network/_multilayer_perceptron.py:617: ConvergenceWarning: Stochastic Optimizer: Maximum iterations (500) reached and the optimization hasn't converged yet.\n",
      "  % self.max_iter, ConvergenceWarning)\n",
      "/Users/nicholaslarsen/opt/anaconda3/envs/mlenv2020/lib/python3.7/site-packages/sklearn/neural_network/_multilayer_perceptron.py:617: ConvergenceWarning: Stochastic Optimizer: Maximum iterations (500) reached and the optimization hasn't converged yet.\n",
      "  % self.max_iter, ConvergenceWarning)\n",
      "/Users/nicholaslarsen/opt/anaconda3/envs/mlenv2020/lib/python3.7/site-packages/sklearn/neural_network/_multilayer_perceptron.py:617: ConvergenceWarning: Stochastic Optimizer: Maximum iterations (500) reached and the optimization hasn't converged yet.\n",
      "  % self.max_iter, ConvergenceWarning)\n",
      "/Users/nicholaslarsen/opt/anaconda3/envs/mlenv2020/lib/python3.7/site-packages/sklearn/neural_network/_multilayer_perceptron.py:617: ConvergenceWarning: Stochastic Optimizer: Maximum iterations (500) reached and the optimization hasn't converged yet.\n",
      "  % self.max_iter, ConvergenceWarning)\n"
     ]
    },
    {
     "name": "stdout",
     "output_type": "stream",
     "text": [
      "Acc: 0.8918918918918919\n",
      "Acc: 0.8702702702702703\n",
      "Acc: 0.9021739130434783\n",
      "Acc: 0.8858695652173914\n",
      "Acc: 0.875\n",
      "Acc: 0.8695652173913043\n",
      "Acc: 0.907608695652174\n",
      "Acc: 0.8695652173913043\n",
      "Acc: 0.8478260869565217\n",
      "Acc: 0.8858695652173914\n",
      "Mean: 0.8805640423031728\n",
      "CPU times: user 10min 53s, sys: 1min 14s, total: 12min 8s\n",
      "Wall time: 1min 35s\n"
     ]
    },
    {
     "name": "stderr",
     "output_type": "stream",
     "text": [
      "/Users/nicholaslarsen/opt/anaconda3/envs/mlenv2020/lib/python3.7/site-packages/sklearn/neural_network/_multilayer_perceptron.py:617: ConvergenceWarning: Stochastic Optimizer: Maximum iterations (500) reached and the optimization hasn't converged yet.\n",
      "  % self.max_iter, ConvergenceWarning)\n"
     ]
    }
   ],
   "source": [
    "%%time\n",
    "skf = StratifiedKFold(n_splits=10, random_state=1, shuffle=True)\n",
    "\n",
    "accs = []\n",
    "for train, test in skf.split(X,y):\n",
    "    x_train, x_test = X[train], X[test]\n",
    "    y_train, y_test = y[train], y[test]\n",
    "    \n",
    "    clf = get_mlp_2(x_train, y_train, ephocs=500)\n",
    "    yhat = clf.predict(x_test)\n",
    "    accs.append(accuracy_score(yhat, y_test))\n",
    "    \n",
    "for a in accs:\n",
    "    print(\"Acc:\", a)\n",
    "print(\"Mean:\",np.mean(accs))"
   ]
  },
  {
   "cell_type": "code",
   "execution_count": null,
   "id": "07b7015d",
   "metadata": {},
   "outputs": [],
   "source": []
  }
 ],
 "metadata": {
  "kernelspec": {
   "display_name": "Python 3 (ipykernel)",
   "language": "python",
   "name": "python3"
  },
  "language_info": {
   "codemirror_mode": {
    "name": "ipython",
    "version": 3
   },
   "file_extension": ".py",
   "mimetype": "text/x-python",
   "name": "python",
   "nbconvert_exporter": "python",
   "pygments_lexer": "ipython3",
   "version": "3.7.11"
  }
 },
 "nbformat": 4,
 "nbformat_minor": 5
}
